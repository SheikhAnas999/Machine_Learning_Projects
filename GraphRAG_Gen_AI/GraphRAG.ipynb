{
  "cells": [
    {
      "cell_type": "code",
      "execution_count": 1,
      "metadata": {
        "colab": {
          "base_uri": "https://localhost:8080/"
        },
        "id": "l1PX9SYmMcyh",
        "outputId": "421a5211-a9e4-4ab6-ee5d-328b2f0bca2e"
      },
      "outputs": [
        {
          "output_type": "stream",
          "name": "stdout",
          "text": [
            "Collecting langchain\n",
            "  Downloading langchain-0.2.12-py3-none-any.whl.metadata (7.1 kB)\n",
            "Requirement already satisfied: PyYAML>=5.3 in /usr/local/lib/python3.10/dist-packages (from langchain) (6.0.2)\n",
            "Requirement already satisfied: SQLAlchemy<3,>=1.4 in /usr/local/lib/python3.10/dist-packages (from langchain) (2.0.32)\n",
            "Requirement already satisfied: aiohttp<4.0.0,>=3.8.3 in /usr/local/lib/python3.10/dist-packages (from langchain) (3.10.1)\n",
            "Requirement already satisfied: async-timeout<5.0.0,>=4.0.0 in /usr/local/lib/python3.10/dist-packages (from langchain) (4.0.3)\n",
            "Collecting langchain-core<0.3.0,>=0.2.27 (from langchain)\n",
            "  Downloading langchain_core-0.2.29-py3-none-any.whl.metadata (6.2 kB)\n",
            "Collecting langchain-text-splitters<0.3.0,>=0.2.0 (from langchain)\n",
            "  Downloading langchain_text_splitters-0.2.2-py3-none-any.whl.metadata (2.1 kB)\n",
            "Collecting langsmith<0.2.0,>=0.1.17 (from langchain)\n",
            "  Downloading langsmith-0.1.98-py3-none-any.whl.metadata (13 kB)\n",
            "Requirement already satisfied: numpy<2,>=1 in /usr/local/lib/python3.10/dist-packages (from langchain) (1.26.4)\n",
            "Requirement already satisfied: pydantic<3,>=1 in /usr/local/lib/python3.10/dist-packages (from langchain) (2.8.2)\n",
            "Requirement already satisfied: requests<3,>=2 in /usr/local/lib/python3.10/dist-packages (from langchain) (2.32.3)\n",
            "Collecting tenacity!=8.4.0,<9.0.0,>=8.1.0 (from langchain)\n",
            "  Downloading tenacity-8.5.0-py3-none-any.whl.metadata (1.2 kB)\n",
            "Requirement already satisfied: aiohappyeyeballs>=2.3.0 in /usr/local/lib/python3.10/dist-packages (from aiohttp<4.0.0,>=3.8.3->langchain) (2.3.4)\n",
            "Requirement already satisfied: aiosignal>=1.1.2 in /usr/local/lib/python3.10/dist-packages (from aiohttp<4.0.0,>=3.8.3->langchain) (1.3.1)\n",
            "Requirement already satisfied: attrs>=17.3.0 in /usr/local/lib/python3.10/dist-packages (from aiohttp<4.0.0,>=3.8.3->langchain) (24.2.0)\n",
            "Requirement already satisfied: frozenlist>=1.1.1 in /usr/local/lib/python3.10/dist-packages (from aiohttp<4.0.0,>=3.8.3->langchain) (1.4.1)\n",
            "Requirement already satisfied: multidict<7.0,>=4.5 in /usr/local/lib/python3.10/dist-packages (from aiohttp<4.0.0,>=3.8.3->langchain) (6.0.5)\n",
            "Requirement already satisfied: yarl<2.0,>=1.0 in /usr/local/lib/python3.10/dist-packages (from aiohttp<4.0.0,>=3.8.3->langchain) (1.9.4)\n",
            "Collecting jsonpatch<2.0,>=1.33 (from langchain-core<0.3.0,>=0.2.27->langchain)\n",
            "  Downloading jsonpatch-1.33-py2.py3-none-any.whl.metadata (3.0 kB)\n",
            "Requirement already satisfied: packaging<25,>=23.2 in /usr/local/lib/python3.10/dist-packages (from langchain-core<0.3.0,>=0.2.27->langchain) (24.1)\n",
            "Requirement already satisfied: typing-extensions>=4.7 in /usr/local/lib/python3.10/dist-packages (from langchain-core<0.3.0,>=0.2.27->langchain) (4.12.2)\n",
            "Collecting orjson<4.0.0,>=3.9.14 (from langsmith<0.2.0,>=0.1.17->langchain)\n",
            "  Downloading orjson-3.10.7-cp310-cp310-manylinux_2_17_x86_64.manylinux2014_x86_64.whl.metadata (50 kB)\n",
            "\u001b[2K     \u001b[90m━━━━━━━━━━━━━━━━━━━━━━━━━━━━━━━━━━━━━━━━\u001b[0m \u001b[32m50.4/50.4 kB\u001b[0m \u001b[31m2.6 MB/s\u001b[0m eta \u001b[36m0:00:00\u001b[0m\n",
            "\u001b[?25hRequirement already satisfied: annotated-types>=0.4.0 in /usr/local/lib/python3.10/dist-packages (from pydantic<3,>=1->langchain) (0.7.0)\n",
            "Requirement already satisfied: pydantic-core==2.20.1 in /usr/local/lib/python3.10/dist-packages (from pydantic<3,>=1->langchain) (2.20.1)\n",
            "Requirement already satisfied: charset-normalizer<4,>=2 in /usr/local/lib/python3.10/dist-packages (from requests<3,>=2->langchain) (3.3.2)\n",
            "Requirement already satisfied: idna<4,>=2.5 in /usr/local/lib/python3.10/dist-packages (from requests<3,>=2->langchain) (3.7)\n",
            "Requirement already satisfied: urllib3<3,>=1.21.1 in /usr/local/lib/python3.10/dist-packages (from requests<3,>=2->langchain) (2.0.7)\n",
            "Requirement already satisfied: certifi>=2017.4.17 in /usr/local/lib/python3.10/dist-packages (from requests<3,>=2->langchain) (2024.7.4)\n",
            "Requirement already satisfied: greenlet!=0.4.17 in /usr/local/lib/python3.10/dist-packages (from SQLAlchemy<3,>=1.4->langchain) (3.0.3)\n",
            "Collecting jsonpointer>=1.9 (from jsonpatch<2.0,>=1.33->langchain-core<0.3.0,>=0.2.27->langchain)\n",
            "  Downloading jsonpointer-3.0.0-py2.py3-none-any.whl.metadata (2.3 kB)\n",
            "Downloading langchain-0.2.12-py3-none-any.whl (990 kB)\n",
            "\u001b[2K   \u001b[90m━━━━━━━━━━━━━━━━━━━━━━━━━━━━━━━━━━━━━━━━\u001b[0m \u001b[32m990.6/990.6 kB\u001b[0m \u001b[31m19.3 MB/s\u001b[0m eta \u001b[36m0:00:00\u001b[0m\n",
            "\u001b[?25hDownloading langchain_core-0.2.29-py3-none-any.whl (383 kB)\n",
            "\u001b[2K   \u001b[90m━━━━━━━━━━━━━━━━━━━━━━━━━━━━━━━━━━━━━━━━\u001b[0m \u001b[32m384.0/384.0 kB\u001b[0m \u001b[31m21.6 MB/s\u001b[0m eta \u001b[36m0:00:00\u001b[0m\n",
            "\u001b[?25hDownloading langchain_text_splitters-0.2.2-py3-none-any.whl (25 kB)\n",
            "Downloading langsmith-0.1.98-py3-none-any.whl (140 kB)\n",
            "\u001b[2K   \u001b[90m━━━━━━━━━━━━━━━━━━━━━━━━━━━━━━━━━━━━━━━━\u001b[0m \u001b[32m140.2/140.2 kB\u001b[0m \u001b[31m10.3 MB/s\u001b[0m eta \u001b[36m0:00:00\u001b[0m\n",
            "\u001b[?25hDownloading tenacity-8.5.0-py3-none-any.whl (28 kB)\n",
            "Downloading jsonpatch-1.33-py2.py3-none-any.whl (12 kB)\n",
            "Downloading orjson-3.10.7-cp310-cp310-manylinux_2_17_x86_64.manylinux2014_x86_64.whl (141 kB)\n",
            "\u001b[2K   \u001b[90m━━━━━━━━━━━━━━━━━━━━━━━━━━━━━━━━━━━━━━━━\u001b[0m \u001b[32m141.9/141.9 kB\u001b[0m \u001b[31m7.9 MB/s\u001b[0m eta \u001b[36m0:00:00\u001b[0m\n",
            "\u001b[?25hDownloading jsonpointer-3.0.0-py2.py3-none-any.whl (7.6 kB)\n",
            "Installing collected packages: tenacity, orjson, jsonpointer, jsonpatch, langsmith, langchain-core, langchain-text-splitters, langchain\n",
            "  Attempting uninstall: tenacity\n",
            "    Found existing installation: tenacity 9.0.0\n",
            "    Uninstalling tenacity-9.0.0:\n",
            "      Successfully uninstalled tenacity-9.0.0\n",
            "Successfully installed jsonpatch-1.33 jsonpointer-3.0.0 langchain-0.2.12 langchain-core-0.2.29 langchain-text-splitters-0.2.2 langsmith-0.1.98 orjson-3.10.7 tenacity-8.5.0\n"
          ]
        }
      ],
      "source": [
        "!pip install langchain"
      ]
    },
    {
      "cell_type": "code",
      "execution_count": 2,
      "metadata": {
        "colab": {
          "base_uri": "https://localhost:8080/"
        },
        "id": "LTZ6BACjR6Fm",
        "outputId": "763ac059-da62-4fcb-e327-2fce01fbae9b"
      },
      "outputs": [
        {
          "output_type": "stream",
          "name": "stdout",
          "text": [
            "Collecting langchain-huggingface\n",
            "  Downloading langchain_huggingface-0.0.3-py3-none-any.whl.metadata (1.2 kB)\n",
            "Requirement already satisfied: huggingface-hub>=0.23.0 in /usr/local/lib/python3.10/dist-packages (from langchain-huggingface) (0.23.5)\n",
            "Requirement already satisfied: langchain-core<0.3,>=0.1.52 in /usr/local/lib/python3.10/dist-packages (from langchain-huggingface) (0.2.29)\n",
            "Collecting sentence-transformers>=2.6.0 (from langchain-huggingface)\n",
            "  Downloading sentence_transformers-3.0.1-py3-none-any.whl.metadata (10 kB)\n",
            "Requirement already satisfied: tokenizers>=0.19.1 in /usr/local/lib/python3.10/dist-packages (from langchain-huggingface) (0.19.1)\n",
            "Requirement already satisfied: transformers>=4.39.0 in /usr/local/lib/python3.10/dist-packages (from langchain-huggingface) (4.42.4)\n",
            "Requirement already satisfied: filelock in /usr/local/lib/python3.10/dist-packages (from huggingface-hub>=0.23.0->langchain-huggingface) (3.15.4)\n",
            "Requirement already satisfied: fsspec>=2023.5.0 in /usr/local/lib/python3.10/dist-packages (from huggingface-hub>=0.23.0->langchain-huggingface) (2024.6.1)\n",
            "Requirement already satisfied: packaging>=20.9 in /usr/local/lib/python3.10/dist-packages (from huggingface-hub>=0.23.0->langchain-huggingface) (24.1)\n",
            "Requirement already satisfied: pyyaml>=5.1 in /usr/local/lib/python3.10/dist-packages (from huggingface-hub>=0.23.0->langchain-huggingface) (6.0.2)\n",
            "Requirement already satisfied: requests in /usr/local/lib/python3.10/dist-packages (from huggingface-hub>=0.23.0->langchain-huggingface) (2.32.3)\n",
            "Requirement already satisfied: tqdm>=4.42.1 in /usr/local/lib/python3.10/dist-packages (from huggingface-hub>=0.23.0->langchain-huggingface) (4.66.5)\n",
            "Requirement already satisfied: typing-extensions>=3.7.4.3 in /usr/local/lib/python3.10/dist-packages (from huggingface-hub>=0.23.0->langchain-huggingface) (4.12.2)\n",
            "Requirement already satisfied: jsonpatch<2.0,>=1.33 in /usr/local/lib/python3.10/dist-packages (from langchain-core<0.3,>=0.1.52->langchain-huggingface) (1.33)\n",
            "Requirement already satisfied: langsmith<0.2.0,>=0.1.75 in /usr/local/lib/python3.10/dist-packages (from langchain-core<0.3,>=0.1.52->langchain-huggingface) (0.1.98)\n",
            "Requirement already satisfied: pydantic<3,>=1 in /usr/local/lib/python3.10/dist-packages (from langchain-core<0.3,>=0.1.52->langchain-huggingface) (2.8.2)\n",
            "Requirement already satisfied: tenacity!=8.4.0,<9.0.0,>=8.1.0 in /usr/local/lib/python3.10/dist-packages (from langchain-core<0.3,>=0.1.52->langchain-huggingface) (8.5.0)\n",
            "Requirement already satisfied: torch>=1.11.0 in /usr/local/lib/python3.10/dist-packages (from sentence-transformers>=2.6.0->langchain-huggingface) (2.3.1+cu121)\n",
            "Requirement already satisfied: numpy in /usr/local/lib/python3.10/dist-packages (from sentence-transformers>=2.6.0->langchain-huggingface) (1.26.4)\n",
            "Requirement already satisfied: scikit-learn in /usr/local/lib/python3.10/dist-packages (from sentence-transformers>=2.6.0->langchain-huggingface) (1.3.2)\n",
            "Requirement already satisfied: scipy in /usr/local/lib/python3.10/dist-packages (from sentence-transformers>=2.6.0->langchain-huggingface) (1.13.1)\n",
            "Requirement already satisfied: Pillow in /usr/local/lib/python3.10/dist-packages (from sentence-transformers>=2.6.0->langchain-huggingface) (9.4.0)\n",
            "Requirement already satisfied: regex!=2019.12.17 in /usr/local/lib/python3.10/dist-packages (from transformers>=4.39.0->langchain-huggingface) (2024.5.15)\n",
            "Requirement already satisfied: safetensors>=0.4.1 in /usr/local/lib/python3.10/dist-packages (from transformers>=4.39.0->langchain-huggingface) (0.4.4)\n",
            "Requirement already satisfied: jsonpointer>=1.9 in /usr/local/lib/python3.10/dist-packages (from jsonpatch<2.0,>=1.33->langchain-core<0.3,>=0.1.52->langchain-huggingface) (3.0.0)\n",
            "Requirement already satisfied: orjson<4.0.0,>=3.9.14 in /usr/local/lib/python3.10/dist-packages (from langsmith<0.2.0,>=0.1.75->langchain-core<0.3,>=0.1.52->langchain-huggingface) (3.10.7)\n",
            "Requirement already satisfied: annotated-types>=0.4.0 in /usr/local/lib/python3.10/dist-packages (from pydantic<3,>=1->langchain-core<0.3,>=0.1.52->langchain-huggingface) (0.7.0)\n",
            "Requirement already satisfied: pydantic-core==2.20.1 in /usr/local/lib/python3.10/dist-packages (from pydantic<3,>=1->langchain-core<0.3,>=0.1.52->langchain-huggingface) (2.20.1)\n",
            "Requirement already satisfied: charset-normalizer<4,>=2 in /usr/local/lib/python3.10/dist-packages (from requests->huggingface-hub>=0.23.0->langchain-huggingface) (3.3.2)\n",
            "Requirement already satisfied: idna<4,>=2.5 in /usr/local/lib/python3.10/dist-packages (from requests->huggingface-hub>=0.23.0->langchain-huggingface) (3.7)\n",
            "Requirement already satisfied: urllib3<3,>=1.21.1 in /usr/local/lib/python3.10/dist-packages (from requests->huggingface-hub>=0.23.0->langchain-huggingface) (2.0.7)\n",
            "Requirement already satisfied: certifi>=2017.4.17 in /usr/local/lib/python3.10/dist-packages (from requests->huggingface-hub>=0.23.0->langchain-huggingface) (2024.7.4)\n",
            "Requirement already satisfied: sympy in /usr/local/lib/python3.10/dist-packages (from torch>=1.11.0->sentence-transformers>=2.6.0->langchain-huggingface) (1.13.1)\n",
            "Requirement already satisfied: networkx in /usr/local/lib/python3.10/dist-packages (from torch>=1.11.0->sentence-transformers>=2.6.0->langchain-huggingface) (3.3)\n",
            "Requirement already satisfied: jinja2 in /usr/local/lib/python3.10/dist-packages (from torch>=1.11.0->sentence-transformers>=2.6.0->langchain-huggingface) (3.1.4)\n",
            "Collecting nvidia-cuda-nvrtc-cu12==12.1.105 (from torch>=1.11.0->sentence-transformers>=2.6.0->langchain-huggingface)\n",
            "  Using cached nvidia_cuda_nvrtc_cu12-12.1.105-py3-none-manylinux1_x86_64.whl.metadata (1.5 kB)\n",
            "Collecting nvidia-cuda-runtime-cu12==12.1.105 (from torch>=1.11.0->sentence-transformers>=2.6.0->langchain-huggingface)\n",
            "  Using cached nvidia_cuda_runtime_cu12-12.1.105-py3-none-manylinux1_x86_64.whl.metadata (1.5 kB)\n",
            "Collecting nvidia-cuda-cupti-cu12==12.1.105 (from torch>=1.11.0->sentence-transformers>=2.6.0->langchain-huggingface)\n",
            "  Using cached nvidia_cuda_cupti_cu12-12.1.105-py3-none-manylinux1_x86_64.whl.metadata (1.6 kB)\n",
            "Collecting nvidia-cudnn-cu12==8.9.2.26 (from torch>=1.11.0->sentence-transformers>=2.6.0->langchain-huggingface)\n",
            "  Using cached nvidia_cudnn_cu12-8.9.2.26-py3-none-manylinux1_x86_64.whl.metadata (1.6 kB)\n",
            "Collecting nvidia-cublas-cu12==12.1.3.1 (from torch>=1.11.0->sentence-transformers>=2.6.0->langchain-huggingface)\n",
            "  Using cached nvidia_cublas_cu12-12.1.3.1-py3-none-manylinux1_x86_64.whl.metadata (1.5 kB)\n",
            "Collecting nvidia-cufft-cu12==11.0.2.54 (from torch>=1.11.0->sentence-transformers>=2.6.0->langchain-huggingface)\n",
            "  Using cached nvidia_cufft_cu12-11.0.2.54-py3-none-manylinux1_x86_64.whl.metadata (1.5 kB)\n",
            "Collecting nvidia-curand-cu12==10.3.2.106 (from torch>=1.11.0->sentence-transformers>=2.6.0->langchain-huggingface)\n",
            "  Using cached nvidia_curand_cu12-10.3.2.106-py3-none-manylinux1_x86_64.whl.metadata (1.5 kB)\n",
            "Collecting nvidia-cusolver-cu12==11.4.5.107 (from torch>=1.11.0->sentence-transformers>=2.6.0->langchain-huggingface)\n",
            "  Using cached nvidia_cusolver_cu12-11.4.5.107-py3-none-manylinux1_x86_64.whl.metadata (1.6 kB)\n",
            "Collecting nvidia-cusparse-cu12==12.1.0.106 (from torch>=1.11.0->sentence-transformers>=2.6.0->langchain-huggingface)\n",
            "  Using cached nvidia_cusparse_cu12-12.1.0.106-py3-none-manylinux1_x86_64.whl.metadata (1.6 kB)\n",
            "Collecting nvidia-nccl-cu12==2.20.5 (from torch>=1.11.0->sentence-transformers>=2.6.0->langchain-huggingface)\n",
            "  Using cached nvidia_nccl_cu12-2.20.5-py3-none-manylinux2014_x86_64.whl.metadata (1.8 kB)\n",
            "Collecting nvidia-nvtx-cu12==12.1.105 (from torch>=1.11.0->sentence-transformers>=2.6.0->langchain-huggingface)\n",
            "  Using cached nvidia_nvtx_cu12-12.1.105-py3-none-manylinux1_x86_64.whl.metadata (1.7 kB)\n",
            "Requirement already satisfied: triton==2.3.1 in /usr/local/lib/python3.10/dist-packages (from torch>=1.11.0->sentence-transformers>=2.6.0->langchain-huggingface) (2.3.1)\n",
            "Collecting nvidia-nvjitlink-cu12 (from nvidia-cusolver-cu12==11.4.5.107->torch>=1.11.0->sentence-transformers>=2.6.0->langchain-huggingface)\n",
            "  Using cached nvidia_nvjitlink_cu12-12.6.20-py3-none-manylinux2014_x86_64.whl.metadata (1.5 kB)\n",
            "Requirement already satisfied: joblib>=1.1.1 in /usr/local/lib/python3.10/dist-packages (from scikit-learn->sentence-transformers>=2.6.0->langchain-huggingface) (1.4.2)\n",
            "Requirement already satisfied: threadpoolctl>=2.0.0 in /usr/local/lib/python3.10/dist-packages (from scikit-learn->sentence-transformers>=2.6.0->langchain-huggingface) (3.5.0)\n",
            "Requirement already satisfied: MarkupSafe>=2.0 in /usr/local/lib/python3.10/dist-packages (from jinja2->torch>=1.11.0->sentence-transformers>=2.6.0->langchain-huggingface) (2.1.5)\n",
            "Requirement already satisfied: mpmath<1.4,>=1.1.0 in /usr/local/lib/python3.10/dist-packages (from sympy->torch>=1.11.0->sentence-transformers>=2.6.0->langchain-huggingface) (1.3.0)\n",
            "Downloading langchain_huggingface-0.0.3-py3-none-any.whl (17 kB)\n",
            "Downloading sentence_transformers-3.0.1-py3-none-any.whl (227 kB)\n",
            "\u001b[2K   \u001b[90m━━━━━━━━━━━━━━━━━━━━━━━━━━━━━━━━━━━━━━━━\u001b[0m \u001b[32m227.1/227.1 kB\u001b[0m \u001b[31m6.6 MB/s\u001b[0m eta \u001b[36m0:00:00\u001b[0m\n",
            "\u001b[?25hUsing cached nvidia_cublas_cu12-12.1.3.1-py3-none-manylinux1_x86_64.whl (410.6 MB)\n",
            "Using cached nvidia_cuda_cupti_cu12-12.1.105-py3-none-manylinux1_x86_64.whl (14.1 MB)\n",
            "Using cached nvidia_cuda_nvrtc_cu12-12.1.105-py3-none-manylinux1_x86_64.whl (23.7 MB)\n",
            "Using cached nvidia_cuda_runtime_cu12-12.1.105-py3-none-manylinux1_x86_64.whl (823 kB)\n",
            "Using cached nvidia_cudnn_cu12-8.9.2.26-py3-none-manylinux1_x86_64.whl (731.7 MB)\n",
            "Using cached nvidia_cufft_cu12-11.0.2.54-py3-none-manylinux1_x86_64.whl (121.6 MB)\n",
            "Using cached nvidia_curand_cu12-10.3.2.106-py3-none-manylinux1_x86_64.whl (56.5 MB)\n",
            "Using cached nvidia_cusolver_cu12-11.4.5.107-py3-none-manylinux1_x86_64.whl (124.2 MB)\n",
            "Using cached nvidia_cusparse_cu12-12.1.0.106-py3-none-manylinux1_x86_64.whl (196.0 MB)\n",
            "Using cached nvidia_nccl_cu12-2.20.5-py3-none-manylinux2014_x86_64.whl (176.2 MB)\n",
            "Using cached nvidia_nvtx_cu12-12.1.105-py3-none-manylinux1_x86_64.whl (99 kB)\n",
            "Using cached nvidia_nvjitlink_cu12-12.6.20-py3-none-manylinux2014_x86_64.whl (19.7 MB)\n",
            "Installing collected packages: nvidia-nvtx-cu12, nvidia-nvjitlink-cu12, nvidia-nccl-cu12, nvidia-curand-cu12, nvidia-cufft-cu12, nvidia-cuda-runtime-cu12, nvidia-cuda-nvrtc-cu12, nvidia-cuda-cupti-cu12, nvidia-cublas-cu12, nvidia-cusparse-cu12, nvidia-cudnn-cu12, nvidia-cusolver-cu12, sentence-transformers, langchain-huggingface\n",
            "Successfully installed langchain-huggingface-0.0.3 nvidia-cublas-cu12-12.1.3.1 nvidia-cuda-cupti-cu12-12.1.105 nvidia-cuda-nvrtc-cu12-12.1.105 nvidia-cuda-runtime-cu12-12.1.105 nvidia-cudnn-cu12-8.9.2.26 nvidia-cufft-cu12-11.0.2.54 nvidia-curand-cu12-10.3.2.106 nvidia-cusolver-cu12-11.4.5.107 nvidia-cusparse-cu12-12.1.0.106 nvidia-nccl-cu12-2.20.5 nvidia-nvjitlink-cu12-12.6.20 nvidia-nvtx-cu12-12.1.105 sentence-transformers-3.0.1\n"
          ]
        }
      ],
      "source": [
        "!pip install langchain-huggingface\n"
      ]
    },
    {
      "cell_type": "code",
      "execution_count": 3,
      "metadata": {
        "id": "vaWItdQ7NQRU"
      },
      "outputs": [],
      "source": [
        "from google.colab import userdata\n",
        "hf_token=userdata.get('HUGGINGFACE_API_KEY')"
      ]
    },
    {
      "cell_type": "code",
      "execution_count": 4,
      "metadata": {
        "colab": {
          "base_uri": "https://localhost:8080/"
        },
        "id": "A5aA5vntp2Vx",
        "outputId": "61ea47c7-dd61-4656-d418-700bfc024b84"
      },
      "outputs": [
        {
          "output_type": "stream",
          "name": "stdout",
          "text": [
            "Collecting tiktoken\n",
            "  Downloading tiktoken-0.7.0-cp310-cp310-manylinux_2_17_x86_64.manylinux2014_x86_64.whl.metadata (6.6 kB)\n",
            "Requirement already satisfied: regex>=2022.1.18 in /usr/local/lib/python3.10/dist-packages (from tiktoken) (2024.5.15)\n",
            "Requirement already satisfied: requests>=2.26.0 in /usr/local/lib/python3.10/dist-packages (from tiktoken) (2.32.3)\n",
            "Requirement already satisfied: charset-normalizer<4,>=2 in /usr/local/lib/python3.10/dist-packages (from requests>=2.26.0->tiktoken) (3.3.2)\n",
            "Requirement already satisfied: idna<4,>=2.5 in /usr/local/lib/python3.10/dist-packages (from requests>=2.26.0->tiktoken) (3.7)\n",
            "Requirement already satisfied: urllib3<3,>=1.21.1 in /usr/local/lib/python3.10/dist-packages (from requests>=2.26.0->tiktoken) (2.0.7)\n",
            "Requirement already satisfied: certifi>=2017.4.17 in /usr/local/lib/python3.10/dist-packages (from requests>=2.26.0->tiktoken) (2024.7.4)\n",
            "Downloading tiktoken-0.7.0-cp310-cp310-manylinux_2_17_x86_64.manylinux2014_x86_64.whl (1.1 MB)\n",
            "\u001b[?25l   \u001b[90m━━━━━━━━━━━━━━━━━━━━━━━━━━━━━━━━━━━━━━━━\u001b[0m \u001b[32m0.0/1.1 MB\u001b[0m \u001b[31m?\u001b[0m eta \u001b[36m-:--:--\u001b[0m\r\u001b[2K   \u001b[91m━━━━━━━━━━━━\u001b[0m\u001b[91m╸\u001b[0m\u001b[90m━━━━━━━━━━━━━━━━━━━━━━━━━━━\u001b[0m \u001b[32m0.3/1.1 MB\u001b[0m \u001b[31m11.0 MB/s\u001b[0m eta \u001b[36m0:00:01\u001b[0m\r\u001b[2K   \u001b[90m━━━━━━━━━━━━━━━━━━━━━━━━━━━━━━━━━━━━━━━━\u001b[0m \u001b[32m1.1/1.1 MB\u001b[0m \u001b[31m15.4 MB/s\u001b[0m eta \u001b[36m0:00:00\u001b[0m\n",
            "\u001b[?25hInstalling collected packages: tiktoken\n",
            "Successfully installed tiktoken-0.7.0\n"
          ]
        }
      ],
      "source": [
        "!pip install tiktoken"
      ]
    },
    {
      "cell_type": "code",
      "execution_count": 5,
      "metadata": {
        "colab": {
          "base_uri": "https://localhost:8080/"
        },
        "id": "2INGulbQjeln",
        "outputId": "409711bf-1db6-4981-8296-3edf4cab40a4"
      },
      "outputs": [
        {
          "output_type": "stream",
          "name": "stdout",
          "text": [
            "  Preparing metadata (setup.py) ... \u001b[?25l\u001b[?25hdone\n",
            "  Building wheel for wikipedia (setup.py) ... \u001b[?25l\u001b[?25hdone\n"
          ]
        }
      ],
      "source": [
        "%pip install --upgrade --quiet  wikipedia"
      ]
    },
    {
      "cell_type": "code",
      "execution_count": 6,
      "metadata": {
        "colab": {
          "base_uri": "https://localhost:8080/"
        },
        "id": "Fy7VUsnpjq0m",
        "outputId": "75009fe9-096d-4ffe-db97-6315fae42f33"
      },
      "outputs": [
        {
          "output_type": "stream",
          "name": "stdout",
          "text": [
            "Collecting langchain_community\n",
            "  Downloading langchain_community-0.2.11-py3-none-any.whl.metadata (2.7 kB)\n",
            "Requirement already satisfied: PyYAML>=5.3 in /usr/local/lib/python3.10/dist-packages (from langchain_community) (6.0.2)\n",
            "Requirement already satisfied: SQLAlchemy<3,>=1.4 in /usr/local/lib/python3.10/dist-packages (from langchain_community) (2.0.32)\n",
            "Requirement already satisfied: aiohttp<4.0.0,>=3.8.3 in /usr/local/lib/python3.10/dist-packages (from langchain_community) (3.10.1)\n",
            "Collecting dataclasses-json<0.7,>=0.5.7 (from langchain_community)\n",
            "  Downloading dataclasses_json-0.6.7-py3-none-any.whl.metadata (25 kB)\n",
            "Requirement already satisfied: langchain<0.3.0,>=0.2.12 in /usr/local/lib/python3.10/dist-packages (from langchain_community) (0.2.12)\n",
            "Requirement already satisfied: langchain-core<0.3.0,>=0.2.27 in /usr/local/lib/python3.10/dist-packages (from langchain_community) (0.2.29)\n",
            "Requirement already satisfied: langsmith<0.2.0,>=0.1.0 in /usr/local/lib/python3.10/dist-packages (from langchain_community) (0.1.98)\n",
            "Requirement already satisfied: numpy<2,>=1 in /usr/local/lib/python3.10/dist-packages (from langchain_community) (1.26.4)\n",
            "Requirement already satisfied: requests<3,>=2 in /usr/local/lib/python3.10/dist-packages (from langchain_community) (2.32.3)\n",
            "Requirement already satisfied: tenacity!=8.4.0,<9.0.0,>=8.1.0 in /usr/local/lib/python3.10/dist-packages (from langchain_community) (8.5.0)\n",
            "Requirement already satisfied: aiohappyeyeballs>=2.3.0 in /usr/local/lib/python3.10/dist-packages (from aiohttp<4.0.0,>=3.8.3->langchain_community) (2.3.4)\n",
            "Requirement already satisfied: aiosignal>=1.1.2 in /usr/local/lib/python3.10/dist-packages (from aiohttp<4.0.0,>=3.8.3->langchain_community) (1.3.1)\n",
            "Requirement already satisfied: attrs>=17.3.0 in /usr/local/lib/python3.10/dist-packages (from aiohttp<4.0.0,>=3.8.3->langchain_community) (24.2.0)\n",
            "Requirement already satisfied: frozenlist>=1.1.1 in /usr/local/lib/python3.10/dist-packages (from aiohttp<4.0.0,>=3.8.3->langchain_community) (1.4.1)\n",
            "Requirement already satisfied: multidict<7.0,>=4.5 in /usr/local/lib/python3.10/dist-packages (from aiohttp<4.0.0,>=3.8.3->langchain_community) (6.0.5)\n",
            "Requirement already satisfied: yarl<2.0,>=1.0 in /usr/local/lib/python3.10/dist-packages (from aiohttp<4.0.0,>=3.8.3->langchain_community) (1.9.4)\n",
            "Requirement already satisfied: async-timeout<5.0,>=4.0 in /usr/local/lib/python3.10/dist-packages (from aiohttp<4.0.0,>=3.8.3->langchain_community) (4.0.3)\n",
            "Collecting marshmallow<4.0.0,>=3.18.0 (from dataclasses-json<0.7,>=0.5.7->langchain_community)\n",
            "  Downloading marshmallow-3.21.3-py3-none-any.whl.metadata (7.1 kB)\n",
            "Collecting typing-inspect<1,>=0.4.0 (from dataclasses-json<0.7,>=0.5.7->langchain_community)\n",
            "  Downloading typing_inspect-0.9.0-py3-none-any.whl.metadata (1.5 kB)\n",
            "Requirement already satisfied: langchain-text-splitters<0.3.0,>=0.2.0 in /usr/local/lib/python3.10/dist-packages (from langchain<0.3.0,>=0.2.12->langchain_community) (0.2.2)\n",
            "Requirement already satisfied: pydantic<3,>=1 in /usr/local/lib/python3.10/dist-packages (from langchain<0.3.0,>=0.2.12->langchain_community) (2.8.2)\n",
            "Requirement already satisfied: jsonpatch<2.0,>=1.33 in /usr/local/lib/python3.10/dist-packages (from langchain-core<0.3.0,>=0.2.27->langchain_community) (1.33)\n",
            "Requirement already satisfied: packaging<25,>=23.2 in /usr/local/lib/python3.10/dist-packages (from langchain-core<0.3.0,>=0.2.27->langchain_community) (24.1)\n",
            "Requirement already satisfied: typing-extensions>=4.7 in /usr/local/lib/python3.10/dist-packages (from langchain-core<0.3.0,>=0.2.27->langchain_community) (4.12.2)\n",
            "Requirement already satisfied: orjson<4.0.0,>=3.9.14 in /usr/local/lib/python3.10/dist-packages (from langsmith<0.2.0,>=0.1.0->langchain_community) (3.10.7)\n",
            "Requirement already satisfied: charset-normalizer<4,>=2 in /usr/local/lib/python3.10/dist-packages (from requests<3,>=2->langchain_community) (3.3.2)\n",
            "Requirement already satisfied: idna<4,>=2.5 in /usr/local/lib/python3.10/dist-packages (from requests<3,>=2->langchain_community) (3.7)\n",
            "Requirement already satisfied: urllib3<3,>=1.21.1 in /usr/local/lib/python3.10/dist-packages (from requests<3,>=2->langchain_community) (2.0.7)\n",
            "Requirement already satisfied: certifi>=2017.4.17 in /usr/local/lib/python3.10/dist-packages (from requests<3,>=2->langchain_community) (2024.7.4)\n",
            "Requirement already satisfied: greenlet!=0.4.17 in /usr/local/lib/python3.10/dist-packages (from SQLAlchemy<3,>=1.4->langchain_community) (3.0.3)\n",
            "Requirement already satisfied: jsonpointer>=1.9 in /usr/local/lib/python3.10/dist-packages (from jsonpatch<2.0,>=1.33->langchain-core<0.3.0,>=0.2.27->langchain_community) (3.0.0)\n",
            "Requirement already satisfied: annotated-types>=0.4.0 in /usr/local/lib/python3.10/dist-packages (from pydantic<3,>=1->langchain<0.3.0,>=0.2.12->langchain_community) (0.7.0)\n",
            "Requirement already satisfied: pydantic-core==2.20.1 in /usr/local/lib/python3.10/dist-packages (from pydantic<3,>=1->langchain<0.3.0,>=0.2.12->langchain_community) (2.20.1)\n",
            "Collecting mypy-extensions>=0.3.0 (from typing-inspect<1,>=0.4.0->dataclasses-json<0.7,>=0.5.7->langchain_community)\n",
            "  Downloading mypy_extensions-1.0.0-py3-none-any.whl.metadata (1.1 kB)\n",
            "Downloading langchain_community-0.2.11-py3-none-any.whl (2.3 MB)\n",
            "\u001b[2K   \u001b[90m━━━━━━━━━━━━━━━━━━━━━━━━━━━━━━━━━━━━━━━━\u001b[0m \u001b[32m2.3/2.3 MB\u001b[0m \u001b[31m34.7 MB/s\u001b[0m eta \u001b[36m0:00:00\u001b[0m\n",
            "\u001b[?25hDownloading dataclasses_json-0.6.7-py3-none-any.whl (28 kB)\n",
            "Downloading marshmallow-3.21.3-py3-none-any.whl (49 kB)\n",
            "\u001b[2K   \u001b[90m━━━━━━━━━━━━━━━━━━━━━━━━━━━━━━━━━━━━━━━━\u001b[0m \u001b[32m49.2/49.2 kB\u001b[0m \u001b[31m3.2 MB/s\u001b[0m eta \u001b[36m0:00:00\u001b[0m\n",
            "\u001b[?25hDownloading typing_inspect-0.9.0-py3-none-any.whl (8.8 kB)\n",
            "Downloading mypy_extensions-1.0.0-py3-none-any.whl (4.7 kB)\n",
            "Installing collected packages: mypy-extensions, marshmallow, typing-inspect, dataclasses-json, langchain_community\n",
            "Successfully installed dataclasses-json-0.6.7 langchain_community-0.2.11 marshmallow-3.21.3 mypy-extensions-1.0.0 typing-inspect-0.9.0\n"
          ]
        }
      ],
      "source": [
        "!pip install langchain_community"
      ]
    },
    {
      "cell_type": "code",
      "execution_count": 7,
      "metadata": {
        "id": "Y9prJwUDiakg",
        "colab": {
          "base_uri": "https://localhost:8080/"
        },
        "outputId": "1a6908bf-1726-40f7-b98b-0cd1817b9dbf"
      },
      "outputs": [
        {
          "output_type": "stream",
          "name": "stderr",
          "text": [
            "/usr/local/lib/python3.10/dist-packages/wikipedia/wikipedia.py:389: GuessedAtParserWarning: No parser was explicitly specified, so I'm using the best available HTML parser for this system (\"lxml\"). This usually isn't a problem, but if you run this code on another system, or in a different virtual environment, it may use a different parser and behave differently.\n",
            "\n",
            "The code that caused this warning is on line 389 of the file /usr/local/lib/python3.10/dist-packages/wikipedia/wikipedia.py. To get rid of this warning, pass the additional argument 'features=\"lxml\"' to the BeautifulSoup constructor.\n",
            "\n",
            "  lis = BeautifulSoup(html).find_all('li')\n"
          ]
        }
      ],
      "source": [
        "from langchain_community.document_loaders import WikipediaLoader\n",
        "documents=WikipediaLoader(query='Elon Musk',load_max_docs=10).load()"
      ]
    },
    {
      "cell_type": "code",
      "execution_count": 8,
      "metadata": {
        "id": "_66TdY0FjmXA",
        "colab": {
          "base_uri": "https://localhost:8080/"
        },
        "outputId": "1813d708-889f-4d48-eb94-33f6d202ea18"
      },
      "outputs": [
        {
          "output_type": "execute_result",
          "data": {
            "text/plain": [
              "[Document(metadata={'title': 'Elon Musk', 'summary': 'Elon Reeve Musk  (; born June 28, 1971) is a businessman and investor known for his key roles in space company SpaceX and automotive company Tesla, Inc. Other involvements include ownership of X Corp., the company that operates the social media platform X (formerly known as Twitter), and his role in the founding of The Boring Company, xAI, Neuralink and OpenAI. He is one of the wealthiest people in the world; as of August 2024, Forbes estimates his net worth to be US$241 billion.\\nMusk was born in Pretoria to model Maye and businessman and engineer Errol Musk, and briefly attended the University of Pretoria before immigrating to Canada at age 18, acquiring citizenship through his Canadian-born mother. Two years later, he matriculated at Queen\\'s University at Kingston in Canada. Musk later transferred to the University of Pennsylvania and received bachelor\\'s degrees in economics and physics. He moved to California in 1995 to attend Stanford University, but dropped out after two days and, with his brother Kimbal, co-founded online city guide software company Zip2. The startup was acquired by Compaq for $307 million in 1999. That same year, Musk co-founded X.com, a direct bank. X.com merged with Confinity in 2000 to form PayPal. In October 2002, eBay acquired PayPal for $1.5 billion. Using $100 million of the money he made from the sale of PayPal, Musk founded SpaceX, a spaceflight services company, in 2002. \\nIn 2004, Musk was an early investor who provided most of the initial financing in electric vehicle manufacturer Tesla Motors, Inc. (later Tesla, Inc.), assuming the position of the company\\'s chairman. He later became the product architect, and in 2008 the CEO. In 2006, Musk helped create SolarCity, a solar energy company that was acquired by Tesla in 2016 and became Tesla Energy. In 2013, he proposed a hyperloop high-speed vactrain transportation system. In 2015, he co-founded OpenAI, a nonprofit artificial intelligence research company. The following year, Musk co-founded Neuralink—a neurotechnology company developing brain–computer interfaces—and The Boring Company, a tunnel construction company. In 2018, the U.S. Securities and Exchange Commission (SEC) sued Musk, alleging that he had falsely announced that he had secured funding for a private takeover of Tesla. To settle the case, Musk stepped down as the chairman of Tesla and paid a $20 million fine. In 2022, he acquired Twitter for $44 billion, merged the company into newly created X Corp. and rebranded the service as X the following year. In March 2023, Musk founded xAI, an artificial intelligence company.\\nMusk has expressed views that have made him a polarizing figure. He has been criticized for making unscientific and misleading statements, including COVID-19 misinformation, promoting right-wing conspiracy theories, and \"endorsing an antisemitic theory\", the latter of which he later apologized for. His ownership of Twitter has been similarly controversial, being marked by layoffs of large numbers of employees, an increase in hate speech, misinformation and disinformation posts on the website, and changes to Twitter Blue verification.', 'source': 'https://en.wikipedia.org/wiki/Elon_Musk'}, page_content='Elon Reeve Musk  (; born June 28, 1971) is a businessman and investor known for his key roles in space company SpaceX and automotive company Tesla, Inc. Other involvements include ownership of X Corp., the company that operates the social media platform X (formerly known as Twitter), and his role in the founding of The Boring Company, xAI, Neuralink and OpenAI. He is one of the wealthiest people in the world; as of August 2024, Forbes estimates his net worth to be US$241 billion.\\nMusk was born in Pretoria to model Maye and businessman and engineer Errol Musk, and briefly attended the University of Pretoria before immigrating to Canada at age 18, acquiring citizenship through his Canadian-born mother. Two years later, he matriculated at Queen\\'s University at Kingston in Canada. Musk later transferred to the University of Pennsylvania and received bachelor\\'s degrees in economics and physics. He moved to California in 1995 to attend Stanford University, but dropped out after two days and, with his brother Kimbal, co-founded online city guide software company Zip2. The startup was acquired by Compaq for $307 million in 1999. That same year, Musk co-founded X.com, a direct bank. X.com merged with Confinity in 2000 to form PayPal. In October 2002, eBay acquired PayPal for $1.5 billion. Using $100 million of the money he made from the sale of PayPal, Musk founded SpaceX, a spaceflight services company, in 2002. \\nIn 2004, Musk was an early investor who provided most of the initial financing in electric vehicle manufacturer Tesla Motors, Inc. (later Tesla, Inc.), assuming the position of the company\\'s chairman. He later became the product architect, and in 2008 the CEO. In 2006, Musk helped create SolarCity, a solar energy company that was acquired by Tesla in 2016 and became Tesla Energy. In 2013, he proposed a hyperloop high-speed vactrain transportation system. In 2015, he co-founded OpenAI, a nonprofit artificial intelligence research company. The following year, Musk co-founded Neuralink—a neurotechnology company developing brain–computer interfaces—and The Boring Company, a tunnel construction company. In 2018, the U.S. Securities and Exchange Commission (SEC) sued Musk, alleging that he had falsely announced that he had secured funding for a private takeover of Tesla. To settle the case, Musk stepped down as the chairman of Tesla and paid a $20 million fine. In 2022, he acquired Twitter for $44 billion, merged the company into newly created X Corp. and rebranded the service as X the following year. In March 2023, Musk founded xAI, an artificial intelligence company.\\nMusk has expressed views that have made him a polarizing figure. He has been criticized for making unscientific and misleading statements, including COVID-19 misinformation, promoting right-wing conspiracy theories, and \"endorsing an antisemitic theory\", the latter of which he later apologized for. His ownership of Twitter has been similarly controversial, being marked by layoffs of large numbers of employees, an increase in hate speech, misinformation and disinformation posts on the website, and changes to Twitter Blue verification.\\n\\n\\n== Early life and education ==\\n\\n\\n=== Childhood and family ===\\nElon Reeve Musk was born on June 28, 1971, in Pretoria, South Africa\\'s administrative capital. He is of British and Pennsylvania Dutch ancestry. His mother, Maye (née Haldeman), is a model and dietitian born in Saskatchewan, Canada, and raised in South Africa. His father, Errol Musk, is a South African electromechanical engineer, pilot, sailor, consultant, emerald dealer, and property developer, who partly owned a rental lodge at the Timbavati Private Nature Reserve. Elon has a younger brother, Kimbal, and a younger sister, Tosca.  Elon has four paternal half-siblings.\\nThe family was wealthy during Elon\\'s youth. Despite both Musk and Errol previously stating that Errol was a part owner of a Zambian emerald mine, in 2023, Errol recounted that the deal he made was to receive \"'),\n",
              " Document(metadata={'title': 'Views of Elon Musk', 'summary': 'Elon Musk is the CEO or owner of multiple companies including Tesla, SpaceX, and X Corp, and has expressed many views on a wide variety of subjects, ranging from politics to science.\\nMusk has often been described as libertarian, but also describes himself as \"politically moderate\". Though following the COVID-19 pandemic his views have also been described as becoming more right-wing and conservative over time. Within the context of American politics, Musk has said he supported Barack Obama in 2008 and 2012, Hillary Clinton in 2016, Joe Biden in 2020, and Donald Trump in 2024. In 2022, Musk said he would start voting for Republican Party candidates, with him showing support for Vivek Ramaswamy in the 2024 Republican presidential primaries. He has stated support for universal basic income, gun rights, freedom of speech, a tax on carbon emissions and opposes government subsidies. He is also a critic of illegal immigration and short-selling.\\nMusk has expressed concern about issues such as artificial intelligence (AI), climate change and population decline. He has also criticized COVID-19 lockdowns, public transportation, and labor unions. He has promoted conspiracy theories, and made controversial statements that have led to accusations of antisemitism, support of white pride and transphobia. His views on international relations, including on the China-Taiwan and Russia-Ukraine conflicts, have received mixed reactions.', 'source': 'https://en.wikipedia.org/wiki/Views_of_Elon_Musk'}, page_content='Elon Musk is the CEO or owner of multiple companies including Tesla, SpaceX, and X Corp, and has expressed many views on a wide variety of subjects, ranging from politics to science.\\nMusk has often been described as libertarian, but also describes himself as \"politically moderate\". Though following the COVID-19 pandemic his views have also been described as becoming more right-wing and conservative over time. Within the context of American politics, Musk has said he supported Barack Obama in 2008 and 2012, Hillary Clinton in 2016, Joe Biden in 2020, and Donald Trump in 2024. In 2022, Musk said he would start voting for Republican Party candidates, with him showing support for Vivek Ramaswamy in the 2024 Republican presidential primaries. He has stated support for universal basic income, gun rights, freedom of speech, a tax on carbon emissions and opposes government subsidies. He is also a critic of illegal immigration and short-selling.\\nMusk has expressed concern about issues such as artificial intelligence (AI), climate change and population decline. He has also criticized COVID-19 lockdowns, public transportation, and labor unions. He has promoted conspiracy theories, and made controversial statements that have led to accusations of antisemitism, support of white pride and transphobia. His views on international relations, including on the China-Taiwan and Russia-Ukraine conflicts, have received mixed reactions.\\n\\n\\n== International relations ==\\n\\n\\n=== Bolivia ===\\nIn July 2020, Musk tweeted, \"We will coup whoever we want! Deal with it\" in response to a Twitter user who implied that the US government organized a coup (referring to the 2019 Bolivian political crisis) against Evo Morales for Musk to obtain lithium from Bolivia. Musk\\'s tweet caused controversy and was later deleted.\\n\\n\\n=== China ===\\nMusk has praised China and has been described as having a close relationship with the Chinese government, allowing access to its markets for Tesla. After Gigafactory Shanghai produced its first batch of vehicles, Musk thanked the Chinese government and Chinese people while criticizing the United States and its people.:\\u200a207–208\\u200a On the 100th anniversary of the founding of the Chinese Communist Party, Musk praised the state\\'s \"economic prosperity\". In 2022, Musk wrote an article for China Cyberspace, the official publication of Cyberspace Administration of China, which enforces Internet censorship in China. His writing the article was described as conflicting with his advocacy for free speech.\\n\\n\\n=== Russian invasion of Ukraine ===\\n\\nFollowing the Russian invasion of Ukraine, Musk floated a controversial proposal on Twitter in October 2022, arguing that Ukraine should permanently cede occupied territories (e.g. Crimea) to Russia, and that Ukraine should drop its bid to join NATO. The four-part proposal, posted as a Twitter poll, suggested new referendums under United Nations supervision on the annexation of Russia-occupied territories. The proposal was welcomed by the Russian government and denounced by Ukrainian President Volodymyr Zelenskyy as \"pro-Russia\", with officials noting that people who had been murdered or forcibly deported by Russia would be unable to vote.\\nMusk appeared to be \"transmitting a message\" for Russian President Vladimir Putin, according to foreign affairs specialist Fiona Hill. In Politico\\'s interview with Hill, she said that Musk\\'s suggestion that Kherson and Zaporizhzhia be up for negotiation, and that the water supply for Crimea be secured, was \"so specific that this clearly is a message from Putin\". Musk previously made a similar suggestion at a September event in Aspen, Colorado. Hill told Politico, \"Putin plays the egos of big men, gives them a sense that they can play a role. But in reality, they\\'re just direct transmitters of messages from Vladimir Putin\".\\nIn an email newsletter, Ian Bremmer, head of Eurasia Group, a political-risk consultancy, said that Musk told him that he had spoken directly with Putin, wh'),\n",
              " Document(metadata={'title': 'Twitter under Elon Musk', 'summary': 'Elon Musk completed his acquisition of Twitter in October 2022; Musk acted as CEO of Twitter until June 2023 when he was succeeded by Linda Yaccarino. Under Musk, Twitter was rebranded to X. It is one of the top social media platforms and the fifth-most-visited website in the world. Users can share posts containing text messages, images, and videos and interact with other users\\' content through likes and reposts. X offers additional features such as direct messaging, video and audio calling, bookmarks, lists, communities, a chatbot, and the social audio feature Spaces.\\nFounded in March 2006 by Jack Dorsey, Noah Glass, Biz Stone, and Evan Williams as Twitter, it underwent a rebranding in July 2023 after being acquired by Elon Musk in 2022. \\nNow operating as X, the platform closely resembles its predecessor but includes additional features such as long-form texts,  account monetization options, audio-video calls, integration with xAI\\'s Grok chatbot, job search, and a verification process accessible to premium users. Several Twitter features have been removed from the site, including Circles, NFT profile pictures, and pronouns in profiles. Musk aims to transform X into an \"everything app\", akin to WeChat.\\nX has faced some controversy post-rebranding. Issues such as the release of the Twitter Files, suspension of journalists\\' accounts, and temporary measures like labeling media outlets as \"state-affiliated\" and restricting their visibility have sparked criticism. Despite Musk stepping down as CEO, X continues to struggle with challenges such as viral misinformation, hate speech, and antisemitism controversies. In response to allegations, X Corp. has pursued legal action against nonprofit organizations Media Matters and the Center for Countering Digital Hate.', 'source': 'https://en.wikipedia.org/wiki/Twitter_under_Elon_Musk'}, page_content='Elon Musk completed his acquisition of Twitter in October 2022; Musk acted as CEO of Twitter until June 2023 when he was succeeded by Linda Yaccarino. Under Musk, Twitter was rebranded to X. It is one of the top social media platforms and the fifth-most-visited website in the world. Users can share posts containing text messages, images, and videos and interact with other users\\' content through likes and reposts. X offers additional features such as direct messaging, video and audio calling, bookmarks, lists, communities, a chatbot, and the social audio feature Spaces.\\nFounded in March 2006 by Jack Dorsey, Noah Glass, Biz Stone, and Evan Williams as Twitter, it underwent a rebranding in July 2023 after being acquired by Elon Musk in 2022. \\nNow operating as X, the platform closely resembles its predecessor but includes additional features such as long-form texts,  account monetization options, audio-video calls, integration with xAI\\'s Grok chatbot, job search, and a verification process accessible to premium users. Several Twitter features have been removed from the site, including Circles, NFT profile pictures, and pronouns in profiles. Musk aims to transform X into an \"everything app\", akin to WeChat.\\nX has faced some controversy post-rebranding. Issues such as the release of the Twitter Files, suspension of journalists\\' accounts, and temporary measures like labeling media outlets as \"state-affiliated\" and restricting their visibility have sparked criticism. Despite Musk stepping down as CEO, X continues to struggle with challenges such as viral misinformation, hate speech, and antisemitism controversies. In response to allegations, X Corp. has pursued legal action against nonprofit organizations Media Matters and the Center for Countering Digital Hate.\\n\\n\\n== History ==\\n\\n\\n=== Acquisition of Twitter ===\\n\\nElon Musk initiated the acquisition of Twitter, Inc. on April 14, 2022, and completed it on October 28, 2022. His goal was to transform Twitter into X, an all-encompassing app inspired by WeChat. By April, Musk had become Twitter\\'s largest shareholder with a 9.2 percent stake and made an unsolicited $44 billion offer on April 14, which Twitter\\'s board initially resisted before accepting on April 25. In July, Musk attempted to terminate the deal, citing Twitter\\'s failure to address spam bot accounts. Twitter sued him, with a trial set for mid-October. Musk then reversed his decision and completed the acquisition on October 28. He became the new owner and CEO, took Twitter private, merged it into X Corp., and fired several top executives, including CEO Parag Agrawal. Following Twitter\\'s change in ownership, Musk renamed several features to remove references to bird-oriented terminology, including renaming \"Birdwatch\" to \"Community Notes\".\\n\\n\\n=== Post-acquisition ===\\nOn July 23, 2023, Musk announced X\\'s launch, which would replace Twitter, which started when the X.com domain (formerly associated with PayPal) began redirecting to Twitter; the logo was changed from the bird to the X the next day, and the platform\\'s official main and associated accounts also began using the letter X within their handles. The @x handle was originally owned by photographer Gene X Hwang, who registered it in 2007. Hwang had expressed willingness to sell the handle, but received an email on July 25, 2023, stating that the company was taking it. He was offered some X merchandise and a meeting with the company\\'s leaders, but no financial benefits. The Android app\\'s name and icon were changed to X on Google Play by July 27; the same change went live on the App Store on July 31 after Apple granted an exception to its minimum character length of 2. Around that time, some more elements of the Twitter branding were removed from the web version, including tweets being renamed to \"posts\".\\nThe rebrand was described as unusual, given that Twitter\\'s brand was already strong internationally, with words like \"tweet\" having entered common language. The rebranding has be'),\n",
              " Document(metadata={'title': 'Acquisition of Twitter by Elon Musk', 'summary': 'Business magnate Elon Musk initiated an acquisition of American social media company Twitter, Inc. on April 14, 2022, and concluded it on October 28, 2022. Musk stated he intended to buy Twitter to build X, an \"everything app\" he had been developing since 2018 to mimic the Chinese app WeChat. Musk had begun buying shares of the company in January 2022, becoming its largest shareholder by April with a 9.1 percent ownership stake. Twitter invited Musk to join its board of directors, an offer he initially accepted before declining. On April 14, Musk made an unsolicited offer to purchase the company, to which Twitter\\'s board responded with a \"poison pill\" strategy to resist a hostile takeover before unanimously accepting Musk\\'s buyout offer of $44 billion on April 25. Musk stated that he planned to introduce new features to the platform, make its algorithms open-source, combat spambot accounts, and promote free speech.\\nIn July, Musk announced his intention to terminate the agreement, asserting that Twitter had breached their agreement by refusing to crack down on spambot accounts. The company filed a lawsuit against Musk in the Delaware Court of Chancery shortly thereafter, with a trial scheduled for the week of October 17. Weeks before the trial was set to begin, Musk reversed course, announcing that he would move forward with the acquisition. The deal was closed on October 28, with Musk immediately becoming Twitter\\'s new owner and CEO. Twitter was taken private and merged into a new parent company named X Corp. \\nMusk promptly fired several top executives, including previous CEO Parag Agrawal. Musk has since proposed several reforms to Twitter and laid off half of the company\\'s workforce. Hundreds of employees then resigned from the company after Musk issued an ultimatum demanding they commit to \"extremely hardcore\" work. Linda Yaccarino was appointed CEO of X Corp. In July 2023, the Twitter service was rebranded as X.\\nReactions to the buyout were mixed, with praise for Musk\\'s planned reforms and vision for the company, particularly his calls for greater free speech, but criticism over fears of a potential rise in misinformation and disinformation, harassment, and hate speech on the platform. Within the United States, conservatives have largely supported the acquisition, while many liberals and former Twitter employees have voiced concerns about Musk\\'s intentions. Since becoming owner, Musk has faced backlash for his handling of the company and account suspensions, including the December 2022 suspensions of ten journalists.\\n\\n', 'source': 'https://en.wikipedia.org/wiki/Acquisition_of_Twitter_by_Elon_Musk'}, page_content='Business magnate Elon Musk initiated an acquisition of American social media company Twitter, Inc. on April 14, 2022, and concluded it on October 28, 2022. Musk stated he intended to buy Twitter to build X, an \"everything app\" he had been developing since 2018 to mimic the Chinese app WeChat. Musk had begun buying shares of the company in January 2022, becoming its largest shareholder by April with a 9.1 percent ownership stake. Twitter invited Musk to join its board of directors, an offer he initially accepted before declining. On April 14, Musk made an unsolicited offer to purchase the company, to which Twitter\\'s board responded with a \"poison pill\" strategy to resist a hostile takeover before unanimously accepting Musk\\'s buyout offer of $44 billion on April 25. Musk stated that he planned to introduce new features to the platform, make its algorithms open-source, combat spambot accounts, and promote free speech.\\nIn July, Musk announced his intention to terminate the agreement, asserting that Twitter had breached their agreement by refusing to crack down on spambot accounts. The company filed a lawsuit against Musk in the Delaware Court of Chancery shortly thereafter, with a trial scheduled for the week of October 17. Weeks before the trial was set to begin, Musk reversed course, announcing that he would move forward with the acquisition. The deal was closed on October 28, with Musk immediately becoming Twitter\\'s new owner and CEO. Twitter was taken private and merged into a new parent company named X Corp. \\nMusk promptly fired several top executives, including previous CEO Parag Agrawal. Musk has since proposed several reforms to Twitter and laid off half of the company\\'s workforce. Hundreds of employees then resigned from the company after Musk issued an ultimatum demanding they commit to \"extremely hardcore\" work. Linda Yaccarino was appointed CEO of X Corp. In July 2023, the Twitter service was rebranded as X.\\nReactions to the buyout were mixed, with praise for Musk\\'s planned reforms and vision for the company, particularly his calls for greater free speech, but criticism over fears of a potential rise in misinformation and disinformation, harassment, and hate speech on the platform. Within the United States, conservatives have largely supported the acquisition, while many liberals and former Twitter employees have voiced concerns about Musk\\'s intentions. Since becoming owner, Musk has faced backlash for his handling of the company and account suspensions, including the December 2022 suspensions of ten journalists.\\n\\n\\n== Prelude ==\\n\\n\\n=== Background ===\\n\\nBusiness magnate Elon Musk published his first tweet on his personal Twitter account in June 2010, and had more than 80 million followers by April 2022. In 2017, in response to a tweet suggesting that he buy Twitter, Inc., Musk replied, \"How much is it?\" On March 24, 2022, Musk began tweeting criticisms of Twitter, polling his followers on whether the company adhered to the principle that \"free speech is essential to a functioning democracy\". Days later, he discussed the future of social media with Twitter co-founder and former CEO Jack Dorsey and explored the possibility of joining Twitter\\'s board of directors with private equity firm Silver Lake co-CEO Egon Durban. He relayed this idea to Twitter board chair Bret Taylor and CEO Parag Agrawal, proposing to either take the company private or start a rival social media platform. Dorsey responded to Musk with a text message, saying he hoped Twitter could become open-sourced and that he had unsuccessfully pushed for Musk\\'s induction into Twitter\\'s board a year earlier, a move that had prompted his departure from his role as CEO.\\n\\n\\n=== Early developments ===\\nMusk began purchasing Twitter stock on January 31, 2022. On April 4, he announced that he had acquired 9.2 percent of the company\\'s shares totaling $2.64 billion, making him the company\\'s largest shareholder. Following the announcement, Twitter\\'s stock experienced its larg'),\n",
              " Document(metadata={'title': 'Family of Elon Musk', 'summary': \"Businessman Elon Musk's family includes notable figures such as his mother Maye Musk, model and author, his father Errol Musk, a businessman and politician, siblings Kimbal Musk  and Tosca Musk, and cousin Lyndon Rive and his ex wives Justine Musk and Tallauh Riley.\", 'source': 'https://en.wikipedia.org/wiki/Family_of_Elon_Musk'}, page_content='Businessman Elon Musk\\'s family includes notable figures such as his mother Maye Musk, model and author, his father Errol Musk, a businessman and politician, siblings Kimbal Musk  and Tosca Musk, and cousin Lyndon Rive and his ex wives Justine Musk and Tallauh Riley.\\n\\n\\n== Maye Musk ==\\n\\nMaye Musk (née Haldeman; born April 19, 1948) is a model, dietitian and author. She has been a model for 50 years, appearing on the covers of magazines, including a Time magazine health edition, Women\\'s Day, international editions of Vogue, and Sports Illustrated Swimsuit Issue. She is the mother of Elon Musk, Kimbal Musk and Tosca Musk. She holds Canadian, South African, and American citizenship. She is a registered dietitian.\\n\\n\\n== Kimbal Musk ==\\n\\nKimbal James Musk (born 20 September 1972) is  a South African restaurateur, chef, and entrepreneur.  He owns The Kitchen Restaurant Group, a collection of restaurants located in Colorado and Chicago. He is the co-founder and chairman of Big Green, a 501(c)(3) nonprofit that has built hundreds of outdoor classrooms called Learning Gardens in schoolyards across America. Musk is also the co-founder and chairman of Square Roots, an urban farming company growing food in hydroponic, indoor, climate controlled shipping containers. Musk currently sits on the boards of Tesla Inc. and SpaceX, both of which his brother Elon is the current CEO. He was on the board of Chipotle Mexican Grill from 2013 to 2019. He is the brother of Tosca Musk, son of Errol and Maye Musk, and a major shareholder in Tesla.\\nIn 1995 he co-founded, with his brother, Elon Musk, the software company Zip2, which was acquired by Compaq for $307 million in 1999.\\n\\n\\n== Tosca Musk ==\\n\\nTosca Musk (born 20 July 1974) is a South African filmmaker. She is an executive producer and director of feature films, television programs, and web content. Her work includes K. Bromberg\\'s Driven, Rachel van Dyken\\'s Matchmaker\\'s Playbook, and  her web series, Tiki Bar TV. Tosca is the younger sister of Elon Musk and Kimbal Musk,  and daughter of Errol Musk and Maye Musk. She co-founded the streaming service Passionflix.\\n\\n\\n== Errol Musk ==\\n\\nErrol Musk is a retired South African engineer, politician, and businessman. Beginning in the 2010s, Musk was featured in media documenting his relationships with family including his wives, children, and  former stepdaughter.\\nErrol Musk was born in South Africa.  His mother, Cora Amelia, was British and his father Walter Henry James Musk was a South African army sergeant.\\nHe attended Clapham High School, where he dated Maye Haldeman. The pair married in 1970.:\\u200a44\\u200a The family lived in Pretoria, where Maye worked as a dietician and a model. Their first child, Elon Reeve Musk, was born in 1971, named after his wife\\'s grandfather J. Elon Haldeman with  Reeve from her maternal grandmother\\'s maiden name.\\nOn 9 March 1972, Musk was elected as an independent to represent Sunnyside on the Pretoria City Council.:\\u200a52\\u200a\\nHe became a member of the recently-formed Progressive Federal Party and ran as their nominee in the  1981 election.:\\u200a52\\u200a:\\u200a225,\\u200afn 119\\u200a In 1983, his resignation from the party amid divisions over a constitutional referendum was front page news.:\\u200a225,\\u200afn 119\\u200a\\nMusk studied electromechanical engineering at the University of Pretoria, worked as an electrical and mechanical engineering consultant and developed properties.  He specialised in retail and office property development.:\\u200a27\\u200a Musk owned \"one of the biggest houses in Pretoria\" thanks to his lucrative engineering business which took on \"large projects such as office buildings, retail complexes, residential subdivisions, and an air force base.\" Musk also owned an auto parts store.  In 1979, Musk and wife Maye divorced .  Maye\\'s book recalls that at the time of the divorce, he owned two homes, a yacht, a plane, five luxury cars, and a truck.\\nMaye recounts a time during their divorce when she sought refuge at a neighbor\\'s home after Errol showed up with a knife looking for her'),\n",
              " Document(metadata={'title': 'Wealth of Elon Musk', 'summary': 'Elon Musk made $175.8 million when PayPal was sold to eBay in October 2002. He was first listed on the Forbes Billionaires List in 2012, with a net worth of $2 billion.  He is the founder, chairman, CEO, and CTO of SpaceX; angel investor, CEO, product architect, and former chairman of Tesla, Inc.; owner, executive chairman, and CTO of X Corp.; founder of the Boring Company and xAI; co-founder of Neuralink and OpenAI; and president of the Musk Foundation. He is one of the wealthiest people in the world, with an estimated net worth of US$191 billion as of April 2024, according to the Bloomberg Billionaires Index, and $182.6 billion according to Forbes, primarily from his ownership stakes in Tesla and SpaceX.', 'source': 'https://en.wikipedia.org/wiki/Wealth_of_Elon_Musk'}, page_content='Elon Musk made $175.8 million when PayPal was sold to eBay in October 2002. He was first listed on the Forbes Billionaires List in 2012, with a net worth of $2 billion.  He is the founder, chairman, CEO, and CTO of SpaceX; angel investor, CEO, product architect, and former chairman of Tesla, Inc.; owner, executive chairman, and CTO of X Corp.; founder of the Boring Company and xAI; co-founder of Neuralink and OpenAI; and president of the Musk Foundation. He is one of the wealthiest people in the world, with an estimated net worth of US$191 billion as of April 2024, according to the Bloomberg Billionaires Index, and $182.6 billion according to Forbes, primarily from his ownership stakes in Tesla and SpaceX.\\n\\n\\n== Details ==\\nAt the start of 2020, Elon Musk had a net worth of $27 billion. By the end of the year his net worth had increased by $150 billion, mostly driven by his ownership of around 20% of Tesla stock. During this period, Musk\\'s net worth was often volatile. For example, it dropped $16.3 billion on September 8, the largest single-day plunge in Bloomberg Billionaires Index\\'s history at the time. In November of that year, Musk passed Facebook co-founder Mark Zuckerberg to become the third-richest person in the world; a week later he passed Microsoft co-founder Bill Gates to become the second-richest.\\nIn January 2021, Musk, with a net worth of $185 billion, surpassed Amazon founder Jeff Bezos to become the richest person in the world. Bezos reclaimed the top spot the following month. On September 27, 2021, after Tesla stock surged, Forbes announced that Musk had a net worth of over $200 billion, and was the richest person in the world. In November 2021, Musk became the first person to have a net worth of more than $300 billion.\\nOn December 30, 2022, it was reported that Musk had lost $200 billion from his net worth due to declining stock values in Tesla, becoming the first person in history to lose such a large sum of money. In January 2023, Musk was recognized by Guinness World Records for experiencing the \"largest loss of personal fortune in history\" with regards to his financial losses since November 2021, which Guinness quoted a Forbes estimate of $182 billion.\\nMusk\\'s personal wealth is managed by his family office called Excession LLC, formed in 2016 and run by Jared Birchall.\\n\\n\\n=== Sources of wealth ===\\nAround 75% of Musk\\'s wealth was derived from Tesla stock in November 2020, a proportion that fell to about 37% as of December 2022, after selling nearly $40 billion in company shares since late 2021. Musk does not receive a salary from Tesla; he agreed with the board in 2018 to a compensation plan that ties his personal earnings to Tesla\\'s valuation and revenue. The deal stipulated that Musk only received the compensation if Tesla reached certain market values. It was the largest such deal ever done between a CEO and a company board. In the first award, given in May 2020, he was eligible to purchase 1.69 million Tesla shares (about 1% of the company) at below-market prices, which was worth about $800 million.\\nThe above stock compensation deal was invalidated by the Delaware court due to Musk controlling Tesla and having massive influence on the directors, making the compensation decision a \"conflicted-controller transaction\" which is subject to court review in Delaware law to be judged for fairness. Tesla is trying to reinstate the payment package via new shareholders votes.\\nMusk paid $455 million in taxes on $1.52 billion of income between 2014 and 2018. According to ProPublica, Musk paid no federal income taxes in 2018. He stated his 2021 tax bill was estimated at $12 billion based on his sale of $14 billion worth of Tesla stock.\\nMusk has repeatedly described himself as \"cash poor\", and has \"professed to have little interest in the material trappings of wealth\". In May 2020, he pledged to sell almost all physical possessions after a talk with Cory Spears. Musk has defended his wealth by saying he is accumulating r'),\n",
              " Document(metadata={'title': 'Maye Musk', 'summary': \"Maye Musk (née Haldeman; born April 19, 1948) is a model, dietitian and author. She has been a model for 50 years, appearing on the covers of magazines, including a Time magazine health edition, Women's Day, international editions of Vogue, and Sports Illustrated Swimsuit Issue. She is the mother of Elon Musk, Kimbal Musk and Tosca Musk. She holds Canadian, South African, and American citizenship. She is a registered dietitian.\", 'source': 'https://en.wikipedia.org/wiki/Maye_Musk'}, page_content='Maye Musk (née Haldeman; born April 19, 1948) is a model, dietitian and author. She has been a model for 50 years, appearing on the covers of magazines, including a Time magazine health edition, Women\\'s Day, international editions of Vogue, and Sports Illustrated Swimsuit Issue. She is the mother of Elon Musk, Kimbal Musk and Tosca Musk. She holds Canadian, South African, and American citizenship. She is a registered dietitian.\\n\\n\\n== Early life and career ==\\nMaye Haldeman was born on April 19, 1948, in Regina, Saskatchewan, Canada, a twin and one of five children. Her family moved to Pretoria, South Africa, in 1950. Her parents, Winnifred Josephine \"Wyn\" (Fletcher) and Dr. Joshua Norman Haldeman, a former director of Technocracy Incorporated, a former Regina chiropractor and amateur archaeologist, were adventurous and flew the family around the world in a prop plane in 1952. For over ten years, the family spent time roaming the Kalahari desert in search of its fabled Lost City of the Kalahari. Their parents gave slide shows and talks about their journeys. \"My parents were very famous, but they were never snobs,\" she said. Joshua Haldeman was a political activist who ran for the Canadian Parliament on the Social Credit Party ticket, and headed the Canadian branch of the Technocracy movement. In 1956 Dr. Haldeman participated on the 3rd edition of the trans-Africa Algiers-Cape Town Rally with a Ford Ranch-Wagon 5.4L and finished tied for 1st place.\\nAs her parents were entrepreneurs, Musk started working at about 8 years of age, where she would \"prepare her parents monthly bulletins and photocopy newsletters, and then put the stamps on the envelopes.” By the age of 12, before and then after school, Musk worked as a receptionist alongside her twin sister for their father. \\nAs a young woman, Haldeman was a finalist in the 1969 Miss South Africa beauty competition. In 1970, she married Errol Musk, a South African engineer she met in high school. They had three children: Elon Musk, Kimbal Musk, and Tosca Musk.  She named Elon after her American grandfather, John Elon Haldeman (born in Illinois).  \\nIn 1979, she divorced Errol Musk. Two years later, Elon, who was about 10 at the time, decided to live with his father, as he had the Encyclopaedia Britannica, and a computer, things which Maye could not afford to give the children, as a single parent. Kimbal joined Elon four years later. After graduating from high school, Elon decided to move to Canada; in 1989, six months later, Maye moved to Canada with her daughter Tosca.\\nMaye earned a master\\'s degree in dietetics from the University of the Orange Free State in South Africa. Her major was taught in Afrikaans – one of the four languages Musk now speaks. She later earned another master\\'s degree in nutritional science from the University of Toronto.\\n\\n\\n== Later life ==\\n\\nHer modelling career continued in Canada and the United States. She has appeared on boxes of Special K cereal, in Revlon ads, and in a Beyoncé video (\"Haunted\"). She appeared nude on the cover of Time magazine for a health issue and also nude on the cover of New York magazine in 2011 with a fake pregnant belly. She was on the cover of Elle Canada in 2012, and starred in advertisement campaigns for Target and Virgin America. In September 2017, she became CoverGirl\\'s oldest spokesmodel at age 69, which one news story reported as \"making history\". In 2022, at age 74, she was the oldest Sports Illustrated swimsuit model to date, appearing on the cover of the annual issue.\\nIn addition to modelling, she has a business as a dietitian and gives presentations worldwide.\\nShe wrote a memoir titled A Woman Makes a Plan: Advice for a Lifetime of Adventure, Beauty, and Success (2019). She also wrote Feel Fantastic: Maye Musk’s Good Health Clinic, which was published in 1996. It enumerated healthy habits and lifestyle changes for healthy aging.\\nIn an interview with Forbes magazine, Musk said her greatest achievement was \"having three great '),\n",
              " Document(metadata={'title': 'Elon Musk (Isaacson book)', 'summary': 'Elon Musk is an authorized biography of American business magnate and SpaceX/Tesla CEO Elon Musk. The book was written by Walter Isaacson, a former executive at CNN, TIME and the Aspen Institute who had previously written best-selling biographies of Benjamin Franklin, Albert Einstein, Steve Jobs and Leonardo da Vinci. The book was published on September 12, 2023, by Simon & Schuster.', 'source': 'https://en.wikipedia.org/wiki/Elon_Musk_(Isaacson_book)'}, page_content='Elon Musk is an authorized biography of American business magnate and SpaceX/Tesla CEO Elon Musk. The book was written by Walter Isaacson, a former executive at CNN, TIME and the Aspen Institute who had previously written best-selling biographies of Benjamin Franklin, Albert Einstein, Steve Jobs and Leonardo da Vinci. The book was published on September 12, 2023, by Simon & Schuster.\\n\\n\\n== Background ==\\nElon Musk first announced that Isaacson was in the process of writing his biography in August 2021. He revealed that Isaacson had shadowed him \"for several days so far\".\\nIsaacson followed Musk for the next two years, visiting his SpaceX and Tesla factories and attending board meetings. The book is the result of hours of interviews with Musk and his family, friends, colleagues and adversaries. Isaacson was present when Musk decided to buy Twitter and to run his new AI company; Musk also shared messages from the Ukrainian minister Mykhailo Fedorov, and some were included in the book. Isaacson later said in an interview that \"Elon is very mercurial, but he never told me not to put anything in the book.\"\\n\\n\\n== Contents ==\\nIsaacson writes that Musk is \"addicted to drama\".\\n\\n\\n=== Crimean Starlink coverage deactivation claim ===\\n\\nAmong the book\\'s revelations was an account that Musk ordered Starlink to disable access to Ukrainian drones in 2022, during the Russian invasion of Ukraine, thwarting an attack on Russian warships in Crimea. Musk denied the allegation, saying satellites in the region were not turned on, and that he chose not to activate them. The biography claim prompted several allegations against Musk for deliberately disrupting the operation. Isaacson later retracted his claim as a mistake, as Crimea had no Starlink coverage prior to the attack similarly to other Russian-occupied territories of Ukraine. \\nThe Washington Post, which had published Isaacson\\'s opinion piece, corrected that \"after the publication of this adaptation, the author learned that his book mischaracterized the attempted attack by Ukrainian drones on the Russian fleet in Crimea. Musk had already disabled (\"geofenced\") coverage within 100 km of the Crimean coast before the attack began, and when the Ukrainians discovered this, they asked him to activate the coverage, and he refused.\" The Guardian and CNN also added a footnote to correct the claim.\\nIsaacson corrected his claim and clarified that Elon Musk said that the policy to not allow Starlink to be used for an attack on Crimea had been implemented earlier than the night of the Ukrainian attack, while Ukrainians did not know about it. Ukrainian general Kyrylo Budanov declared being \"not sure that Elon Musk operated some mythical buttons and stopped the movement of some devices. This is my personal opinion. The fact that the Starlink systems did not work for a certain time near the Crimea, I can absolutely confirm, because we also used a certain technique. We immediately realized that there is simply no coverage there\".\\n\\n\\n== Reception ==\\nAhead of its publication, the book topped Amazon\\'s bestseller list. It debuted at number one on The New York Times nonfiction best-seller list for the week ending September 16, 2023.\\nAt the review aggregator website Book Marks, the book had an overall rating of \"mixed\", based on 15 book reviews from mainstream literary critics. \\nThe New York Times critic Jennifer Szalai wrote, \"Isaacson [...] is a patient chronicler of obsession; in the case of Musk, he can occasionally seem too patient.\"\\nBrian Merchant of the Los Angeles Times criticized Isaacson\\'s \"great man\" biography format as extremely dated and took issue with his persistent framing of Musk as a \"moody but brilliant world-mover\", writing, \"The author will unearth unflattering personal anecdotes and share stories about the subject\\'s capacity to be cruel. In exchange, the subject\\'s greatness will be treated as an assumption.\"\\nIn The Guardian, Gary Shteyngart called the book a \"dull, insight-free doorstop\", and critici'),\n",
              " Document(metadata={'title': \"Elon Musk's Tesla Roadster\", 'summary': 'Elon Musk\\'s Tesla Roadster is an electric sports car that served as the dummy payload for the February 2018 Falcon Heavy test flight and became an artificial satellite of the Sun. A mannequin in a spacesuit, dubbed \"Starman\", occupies the driver\\'s seat. The car and rocket are products of Tesla and SpaceX, respectively, both companies headed by Elon Musk. The 2010 Roadster is personally owned by and previously used by Musk for commuting to work. It is the first production car launched into space.\\nThe car, mounted on the rocket\\'s second stage, was launched on an escape trajectory and entered an elliptical heliocentric orbit crossing the orbit of Mars. The orbit reaches a maximum distance from the Sun at aphelion of 1.66 astronomical units (au). Video of the Roadster during the launch was transmitted back to the mission control center and live-streamed.\\nAdvertising analysts noted Musk\\'s sense of brand management and use of new media for his decision to launch a Tesla into space. Musk explained he wanted to inspire the public about the \"possibility of something new happening in space\" as part of his larger vision for spreading humanity to other planets.', 'source': 'https://en.wikipedia.org/wiki/Elon_Musk%27s_Tesla_Roadster'}, page_content='Elon Musk\\'s Tesla Roadster is an electric sports car that served as the dummy payload for the February 2018 Falcon Heavy test flight and became an artificial satellite of the Sun. A mannequin in a spacesuit, dubbed \"Starman\", occupies the driver\\'s seat. The car and rocket are products of Tesla and SpaceX, respectively, both companies headed by Elon Musk. The 2010 Roadster is personally owned by and previously used by Musk for commuting to work. It is the first production car launched into space.\\nThe car, mounted on the rocket\\'s second stage, was launched on an escape trajectory and entered an elliptical heliocentric orbit crossing the orbit of Mars. The orbit reaches a maximum distance from the Sun at aphelion of 1.66 astronomical units (au). Video of the Roadster during the launch was transmitted back to the mission control center and live-streamed.\\nAdvertising analysts noted Musk\\'s sense of brand management and use of new media for his decision to launch a Tesla into space. Musk explained he wanted to inspire the public about the \"possibility of something new happening in space\" as part of his larger vision for spreading humanity to other planets.\\n\\n\\n== Background ==\\n\\nIn March 2017, SpaceX\\'s founder, Elon Musk, said that because the launch of the new Falcon Heavy vehicle was risky, it would carry the \"silliest thing we can imagine\".\\nIn June 2017, one of his Twitter followers suggested that the silly thing be a Tesla Model S, to which Musk replied: \"Suggestions welcome!\"\\nIn December 2017, Musk announced that the payload would be his personal \"midnight cherry Tesla Roadster\".\\nOne of the test flight objectives was to demonstrate that the new rocket could carry a payload as far as the orbit of Mars. NASA deputy administrator Lori Garver stated that SpaceX had \"offered free launches to NASA, Air Force etc. but got no takers\", and that \"the Tesla gimmick was the backup\".\\nThe Roadster is the first standard roadworthy vehicle sent into space, following several special-purpose lunar and Mars rovers.\\n\\n\\n=== Roadster as payload ===\\n\\nThe car was permanently mounted on the rocket in an inclined position above the payload adapter. Tubular structures were added to mount front and side cameras. Photos of the car prior to payload encapsulation were released.\\nPositioned in the driver\\'s seat is \"Starman\", a full-scale human mannequin clad in a SpaceX pressure spacesuit. It was placed with the right hand on the steering wheel and the left elbow resting on the open window sill.  The mannequin was named after the David Bowie song \"Starman\", and the car\\'s sound system was set before launch to continuously loop the Bowie song \"Space Oddity\".\\nA copy of Douglas Adams\\' novel The Hitchhiker\\'s Guide to the Galaxy is in the glove box, along with references to the book in the form of a towel and a sign on the dashboard that reads \"DON\\'T PANIC!\". \\nA Hot Wheels miniature Roadster with a miniature Starman is mounted on the dashboard. A plaque bearing the names of the employees who worked on the project is placed underneath the car, and a message on the vehicle\\'s circuit board reads \"Made on Earth by humans\". The car carries a copy of Isaac Asimov\\'s Foundation trilogy on a 5D optical disc, a proof of concept for high-density long-lasting data storage, donated to Musk by the Arch Mission Foundation.\\n\\n\\n== Trajectory ==\\n\\nThe US Office of Commercial Space Transportation issued the test flight\\'s launch license on February 2, 2018. The rocket lifted off from Launch Complex 39A at Kennedy Space Center at 15:45 EST (20:45 UTC) on February 6. The upper stage supporting the car was initially placed in an Earth parking orbit. It spent six hours coasting through the Van Allen radiation belts, thereby demonstrating a new capability requested by the U.S. Air Force for direct insertion of heavy intelligence satellites into geostationary orbit. Then, the upper stage performed a second boost to reach the desired escape trajectory.\\nThe launch was live streamed, and video feeds f')]"
            ]
          },
          "metadata": {},
          "execution_count": 8
        }
      ],
      "source": [
        "documents"
      ]
    },
    {
      "cell_type": "code",
      "execution_count": 9,
      "metadata": {
        "id": "XPSt9Wms3-WX",
        "colab": {
          "base_uri": "https://localhost:8080/"
        },
        "outputId": "1be3ed14-c1d9-4158-b212-54737eb4f3c8"
      },
      "outputs": [
        {
          "output_type": "execute_result",
          "data": {
            "text/plain": [
              "Document(metadata={'title': 'Elon Musk (Isaacson book)', 'summary': 'Elon Musk is an authorized biography of American business magnate and SpaceX/Tesla CEO Elon Musk. The book was written by Walter Isaacson, a former executive at CNN, TIME and the Aspen Institute who had previously written best-selling biographies of Benjamin Franklin, Albert Einstein, Steve Jobs and Leonardo da Vinci. The book was published on September 12, 2023, by Simon & Schuster.', 'source': 'https://en.wikipedia.org/wiki/Elon_Musk_(Isaacson_book)'}, page_content='Elon Musk is an authorized biography of American business magnate and SpaceX/Tesla CEO Elon Musk. The book was written by Walter Isaacson, a former executive at CNN, TIME and the Aspen Institute who had previously written best-selling biographies of Benjamin Franklin, Albert Einstein, Steve Jobs and Leonardo da Vinci. The book was published on September 12, 2023, by Simon & Schuster.\\n\\n\\n== Background ==\\nElon Musk first announced that Isaacson was in the process of writing his biography in August 2021. He revealed that Isaacson had shadowed him \"for several days so far\".\\nIsaacson followed Musk for the next two years, visiting his SpaceX and Tesla factories and attending board meetings. The book is the result of hours of interviews with Musk and his family, friends, colleagues and adversaries. Isaacson was present when Musk decided to buy Twitter and to run his new AI company; Musk also shared messages from the Ukrainian minister Mykhailo Fedorov, and some were included in the book. Isaacson later said in an interview that \"Elon is very mercurial, but he never told me not to put anything in the book.\"\\n\\n\\n== Contents ==\\nIsaacson writes that Musk is \"addicted to drama\".\\n\\n\\n=== Crimean Starlink coverage deactivation claim ===\\n\\nAmong the book\\'s revelations was an account that Musk ordered Starlink to disable access to Ukrainian drones in 2022, during the Russian invasion of Ukraine, thwarting an attack on Russian warships in Crimea. Musk denied the allegation, saying satellites in the region were not turned on, and that he chose not to activate them. The biography claim prompted several allegations against Musk for deliberately disrupting the operation. Isaacson later retracted his claim as a mistake, as Crimea had no Starlink coverage prior to the attack similarly to other Russian-occupied territories of Ukraine. \\nThe Washington Post, which had published Isaacson\\'s opinion piece, corrected that \"after the publication of this adaptation, the author learned that his book mischaracterized the attempted attack by Ukrainian drones on the Russian fleet in Crimea. Musk had already disabled (\"geofenced\") coverage within 100 km of the Crimean coast before the attack began, and when the Ukrainians discovered this, they asked him to activate the coverage, and he refused.\" The Guardian and CNN also added a footnote to correct the claim.\\nIsaacson corrected his claim and clarified that Elon Musk said that the policy to not allow Starlink to be used for an attack on Crimea had been implemented earlier than the night of the Ukrainian attack, while Ukrainians did not know about it. Ukrainian general Kyrylo Budanov declared being \"not sure that Elon Musk operated some mythical buttons and stopped the movement of some devices. This is my personal opinion. The fact that the Starlink systems did not work for a certain time near the Crimea, I can absolutely confirm, because we also used a certain technique. We immediately realized that there is simply no coverage there\".\\n\\n\\n== Reception ==\\nAhead of its publication, the book topped Amazon\\'s bestseller list. It debuted at number one on The New York Times nonfiction best-seller list for the week ending September 16, 2023.\\nAt the review aggregator website Book Marks, the book had an overall rating of \"mixed\", based on 15 book reviews from mainstream literary critics. \\nThe New York Times critic Jennifer Szalai wrote, \"Isaacson [...] is a patient chronicler of obsession; in the case of Musk, he can occasionally seem too patient.\"\\nBrian Merchant of the Los Angeles Times criticized Isaacson\\'s \"great man\" biography format as extremely dated and took issue with his persistent framing of Musk as a \"moody but brilliant world-mover\", writing, \"The author will unearth unflattering personal anecdotes and share stories about the subject\\'s capacity to be cruel. In exchange, the subject\\'s greatness will be treated as an assumption.\"\\nIn The Guardian, Gary Shteyngart called the book a \"dull, insight-free doorstop\", and critici')"
            ]
          },
          "metadata": {},
          "execution_count": 9
        }
      ],
      "source": [
        "documents.pop(7)"
      ]
    },
    {
      "cell_type": "code",
      "execution_count": 10,
      "metadata": {
        "id": "4eDYJRCHkjNW",
        "colab": {
          "base_uri": "https://localhost:8080/",
          "height": 191
        },
        "outputId": "69f477c1-70b5-4fd6-9a55-1e9334f8ea53"
      },
      "outputs": [
        {
          "output_type": "execute_result",
          "data": {
            "text/plain": [
              "'Elon Reeve Musk  (; born June 28, 1971) is a businessman and investor known for his key roles in space company SpaceX and automotive company Tesla, Inc. Other involvements include ownership of X Corp., the company that operates the social media platform X (formerly known as Twitter), and his role in the founding of The Boring Company, xAI, Neuralink and OpenAI. He is one of the wealthiest people in the world; as of August 2024, Forbes estimates his net worth to be US$241 billion.Musk was born in Pretoria to model Maye and businessman and engineer Errol Musk, and briefly attended the University of Pretoria before immigrating to Canada at age 18, acquiring citizenship through his Canadian-born mother. Two years later, he matriculated at Queen\\'s University at Kingston in Canada. Musk later transferred to the University of Pennsylvania and received bachelor\\'s degrees in economics and physics. He moved to California in 1995 to attend Stanford University, but dropped out after two days and, with his brother Kimbal, co-founded online city guide software company Zip2. The startup was acquired by Compaq for $307 million in 1999. That same year, Musk co-founded X.com, a direct bank. X.com merged with Confinity in 2000 to form PayPal. In October 2002, eBay acquired PayPal for $1.5 billion. Using $100 million of the money he made from the sale of PayPal, Musk founded SpaceX, a spaceflight services company, in 2002. In 2004, Musk was an early investor who provided most of the initial financing in electric vehicle manufacturer Tesla Motors, Inc. (later Tesla, Inc.), assuming the position of the company\\'s chairman. He later became the product architect, and in 2008 the CEO. In 2006, Musk helped create SolarCity, a solar energy company that was acquired by Tesla in 2016 and became Tesla Energy. In 2013, he proposed a hyperloop high-speed vactrain transportation system. In 2015, he co-founded OpenAI, a nonprofit artificial intelligence research company. The following year, Musk co-founded Neuralink—a neurotechnology company developing brain–computer interfaces—and The Boring Company, a tunnel construction company. In 2018, the U.S. Securities and Exchange Commission (SEC) sued Musk, alleging that he had falsely announced that he had secured funding for a private takeover of Tesla. To settle the case, Musk stepped down as the chairman of Tesla and paid a $20 million fine. In 2022, he acquired Twitter for $44 billion, merged the company into newly created X Corp. and rebranded the service as X the following year. In March 2023, Musk founded xAI, an artificial intelligence company.Musk has expressed views that have made him a polarizing figure. He has been criticized for making unscientific and misleading statements, including COVID-19 misinformation, promoting right-wing conspiracy theories, and \"endorsing an antisemitic theory\", the latter of which he later apologized for. His ownership of Twitter has been similarly controversial, being marked by layoffs of large numbers of employees, an increase in hate speech, misinformation and disinformation posts on the website, and changes to Twitter Blue verification. Early life and education  Childhood and family Elon Reeve Musk was born on June 28, 1971, in Pretoria, South Africa\\'s administrative capital. He is of British and Pennsylvania Dutch ancestry. His mother, Maye (née Haldeman), is a model and dietitian born in Saskatchewan, Canada, and raised in South Africa. His father, Errol Musk, is a South African electromechanical engineer, pilot, sailor, consultant, emerald dealer, and property developer, who partly owned a rental lodge at the Timbavati Private Nature Reserve. Elon has a younger brother, Kimbal, and a younger sister, Tosca.  Elon has four paternal half-siblings.The family was wealthy during Elon\\'s youth. Despite both Musk and Errol previously stating that Errol was a part owner of a Zambian emerald mine, in 2023, Errol recounted that the deal he made was to receive \" Elon Musk is the CEO or owner of multiple companies including Tesla, SpaceX, and X Corp, and has expressed many views on a wide variety of subjects, ranging from politics to science.Musk has often been described as libertarian, but also describes himself as \"politically moderate\". Though following the COVID-19 pandemic his views have also been described as becoming more right-wing and conservative over time. Within the context of American politics, Musk has said he supported Barack Obama in 2008 and 2012, Hillary Clinton in 2016, Joe Biden in 2020, and Donald Trump in 2024. In 2022, Musk said he would start voting for Republican Party candidates, with him showing support for Vivek Ramaswamy in the 2024 Republican presidential primaries. He has stated support for universal basic income, gun rights, freedom of speech, a tax on carbon emissions and opposes government subsidies. He is also a critic of illegal immigration and short-selling.Musk has expressed concern about issues such as artificial intelligence (AI), climate change and population decline. He has also criticized COVID-19 lockdowns, public transportation, and labor unions. He has promoted conspiracy theories, and made controversial statements that have led to accusations of antisemitism, support of white pride and transphobia. His views on international relations, including on the China-Taiwan and Russia-Ukraine conflicts, have received mixed reactions. International relations  Bolivia In July 2020, Musk tweeted, \"We will coup whoever we want! Deal with it\" in response to a Twitter user who implied that the US government organized a coup (referring to the 2019 Bolivian political crisis) against Evo Morales for Musk to obtain lithium from Bolivia. Musk\\'s tweet caused controversy and was later deleted. China Musk has praised China and has been described as having a close relationship with the Chinese government, allowing access to its markets for Tesla. After Gigafactory Shanghai produced its first batch of vehicles, Musk thanked the Chinese government and Chinese people while criticizing the United States and its people.:\\u200a207–208\\u200a On the 100th anniversary of the founding of the Chinese Communist Party, Musk praised the state\\'s \"economic prosperity\". In 2022, Musk wrote an article for China Cyberspace, the official publication of Cyberspace Administration of China, which enforces Internet censorship in China. His writing the article was described as conflicting with his advocacy for free speech. Russian invasion of Ukraine Following the Russian invasion of Ukraine, Musk floated a controversial proposal on Twitter in October 2022, arguing that Ukraine should permanently cede occupied territories (e.g. Crimea) to Russia, and that Ukraine should drop its bid to join NATO. The four-part proposal, posted as a Twitter poll, suggested new referendums under United Nations supervision on the annexation of Russia-occupied territories. The proposal was welcomed by the Russian government and denounced by Ukrainian President Volodymyr Zelenskyy as \"pro-Russia\", with officials noting that people who had been murdered or forcibly deported by Russia would be unable to vote.Musk appeared to be \"transmitting a message\" for Russian President Vladimir Putin, according to foreign affairs specialist Fiona Hill. In Politico\\'s interview with Hill, she said that Musk\\'s suggestion that Kherson and Zaporizhzhia be up for negotiation, and that the water supply for Crimea be secured, was \"so specific that this clearly is a message from Putin\". Musk previously made a similar suggestion at a September event in Aspen, Colorado. Hill told Politico, \"Putin plays the egos of big men, gives them a sense that they can play a role. But in reality, they\\'re just direct transmitters of messages from Vladimir Putin\".In an email newsletter, Ian Bremmer, head of Eurasia Group, a political-risk consultancy, said that Musk told him that he had spoken directly with Putin, wh Elon Musk completed his acquisition of Twitter in October 2022; Musk acted as CEO of Twitter until June 2023 when he was succeeded by Linda Yaccarino. Under Musk, Twitter was rebranded to X. It is one of the top social media platforms and the fifth-most-visited website in the world. Users can share posts containing text messages, images, and videos and interact with other users\\' content through likes and reposts. X offers additional features such as direct messaging, video and audio calling, bookmarks, lists, communities, a chatbot, and the social audio feature Spaces.Founded in March 2006 by Jack Dorsey, Noah Glass, Biz Stone, and Evan Williams as Twitter, it underwent a rebranding in July 2023 after being acquired by Elon Musk in 2022. Now operating as X, the platform closely resembles its predecessor but includes additional features such as long-form texts,  account monetization options, audio-video calls, integration with xAI\\'s Grok chatbot, job search, and a verification process accessible to premium users. Several Twitter features have been removed from the site, including Circles, NFT profile pictures, and pronouns in profiles. Musk aims to transform X into an \"everything app\", akin to WeChat.X has faced some controversy post-rebranding. Issues such as the release of the Twitter Files, suspension of journalists\\' accounts, and temporary measures like labeling media outlets as \"state-affiliated\" and restricting their visibility have sparked criticism. Despite Musk stepping down as CEO, X continues to struggle with challenges such as viral misinformation, hate speech, and antisemitism controversies. In response to allegations, X Corp. has pursued legal action against nonprofit organizations Media Matters and the Center for Countering Digital Hate. History  Acquisition of Twitter Elon Musk initiated the acquisition of Twitter, Inc. on April 14, 2022, and completed it on October 28, 2022. His goal was to transform Twitter into X, an all-encompassing app inspired by WeChat. By April, Musk had become Twitter\\'s largest shareholder with a 9.2 percent stake and made an unsolicited $44 billion offer on April 14, which Twitter\\'s board initially resisted before accepting on April 25. In July, Musk attempted to terminate the deal, citing Twitter\\'s failure to address spam bot accounts. Twitter sued him, with a trial set for mid-October. Musk then reversed his decision and completed the acquisition on October 28. He became the new owner and CEO, took Twitter private, merged it into X Corp., and fired several top executives, including CEO Parag Agrawal. Following Twitter\\'s change in ownership, Musk renamed several features to remove references to bird-oriented terminology, including renaming \"Birdwatch\" to \"Community Notes\". Post-acquisition On July 23, 2023, Musk announced X\\'s launch, which would replace Twitter, which started when the X.com domain (formerly associated with PayPal) began redirecting to Twitter; the logo was changed from the bird to the X the next day, and the platform\\'s official main and associated accounts also began using the letter X within their handles. The @x handle was originally owned by photographer Gene X Hwang, who registered it in 2007. Hwang had expressed willingness to sell the handle, but received an email on July 25, 2023, stating that the company was taking it. He was offered some X merchandise and a meeting with the company\\'s leaders, but no financial benefits. The Android app\\'s name and icon were changed to X on Google Play by July 27; the same change went live on the App Store on July 31 after Apple granted an exception to its minimum character length of 2. Around that time, some more elements of the Twitter branding were removed from the web version, including tweets being renamed to \"posts\".The rebrand was described as unusual, given that Twitter\\'s brand was already strong internationally, with words like \"tweet\" having entered common language. The rebranding has be Business magnate Elon Musk initiated an acquisition of American social media company Twitter, Inc. on April 14, 2022, and concluded it on October 28, 2022. Musk stated he intended to buy Twitter to build X, an \"everything app\" he had been developing since 2018 to mimic the Chinese app WeChat. Musk had begun buying shares of the company in January 2022, becoming its largest shareholder by April with a 9.1 percent ownership stake. Twitter invited Musk to join its board of directors, an offer he initially accepted before declining. On April 14, Musk made an unsolicited offer to purchase the company, to which Twitter\\'s board responded with a \"poison pill\" strategy to resist a hostile takeover before unanimously accepting Musk\\'s buyout offer of $44 billion on April 25. Musk stated that he planned to introduce new features to the platform, make its algorithms open-source, combat spambot accounts, and promote free speech.In July, Musk announced his intention to terminate the agreement, asserting that Twitter had breached their agreement by refusing to crack down on spambot accounts. The company filed a lawsuit against Musk in the Delaware Court of Chancery shortly thereafter, with a trial scheduled for the week of October 17. Weeks before the trial was set to begin, Musk reversed course, announcing that he would move forward with the acquisition. The deal was closed on October 28, with Musk immediately becoming Twitter\\'s new owner and CEO. Twitter was taken private and merged into a new parent company named X Corp. Musk promptly fired several top executives, including previous CEO Parag Agrawal. Musk has since proposed several reforms to Twitter and laid off half of the company\\'s workforce. Hundreds of employees then resigned from the company after Musk issued an ultimatum demanding they commit to \"extremely hardcore\" work. Linda Yaccarino was appointed CEO of X Corp. In July 2023, the Twitter service was rebranded as X.Reactions to the buyout were mixed, with praise for Musk\\'s planned reforms and vision for the company, particularly his calls for greater free speech, but criticism over fears of a potential rise in misinformation and disinformation, harassment, and hate speech on the platform. Within the United States, conservatives have largely supported the acquisition, while many liberals and former Twitter employees have voiced concerns about Musk\\'s intentions. Since becoming owner, Musk has faced backlash for his handling of the company and account suspensions, including the December 2022 suspensions of ten journalists. Prelude  Background Business magnate Elon Musk published his first tweet on his personal Twitter account in June 2010, and had more than 80 million followers by April 2022. In 2017, in response to a tweet suggesting that he buy Twitter, Inc., Musk replied, \"How much is it?\" On March 24, 2022, Musk began tweeting criticisms of Twitter, polling his followers on whether the company adhered to the principle that \"free speech is essential to a functioning democracy\". Days later, he discussed the future of social media with Twitter co-founder and former CEO Jack Dorsey and explored the possibility of joining Twitter\\'s board of directors with private equity firm Silver Lake co-CEO Egon Durban. He relayed this idea to Twitter board chair Bret Taylor and CEO Parag Agrawal, proposing to either take the company private or start a rival social media platform. Dorsey responded to Musk with a text message, saying he hoped Twitter could become open-sourced and that he had unsuccessfully pushed for Musk\\'s induction into Twitter\\'s board a year earlier, a move that had prompted his departure from his role as CEO. Early developments Musk began purchasing Twitter stock on January 31, 2022. On April 4, he announced that he had acquired 9.2 percent of the company\\'s shares totaling $2.64 billion, making him the company\\'s largest shareholder. Following the announcement, Twitter\\'s stock experienced its larg Businessman Elon Musk\\'s family includes notable figures such as his mother Maye Musk, model and author, his father Errol Musk, a businessman and politician, siblings Kimbal Musk  and Tosca Musk, and cousin Lyndon Rive and his ex wives Justine Musk and Tallauh Riley. Maye Musk Maye Musk (née Haldeman; born April 19, 1948) is a model, dietitian and author. She has been a model for 50 years, appearing on the covers of magazines, including a Time magazine health edition, Women\\'s Day, international editions of Vogue, and Sports Illustrated Swimsuit Issue. She is the mother of Elon Musk, Kimbal Musk and Tosca Musk. She holds Canadian, South African, and American citizenship. She is a registered dietitian. Kimbal Musk Kimbal James Musk (born 20 September 1972) is  a South African restaurateur, chef, and entrepreneur.  He owns The Kitchen Restaurant Group, a collection of restaurants located in Colorado and Chicago. He is the co-founder and chairman of Big Green, a 501(c)(3) nonprofit that has built hundreds of outdoor classrooms called Learning Gardens in schoolyards across America. Musk is also the co-founder and chairman of Square Roots, an urban farming company growing food in hydroponic, indoor, climate controlled shipping containers. Musk currently sits on the boards of Tesla Inc. and SpaceX, both of which his brother Elon is the current CEO. He was on the board of Chipotle Mexican Grill from 2013 to 2019. He is the brother of Tosca Musk, son of Errol and Maye Musk, and a major shareholder in Tesla.In 1995 he co-founded, with his brother, Elon Musk, the software company Zip2, which was acquired by Compaq for $307 million in 1999. Tosca Musk Tosca Musk (born 20 July 1974) is a South African filmmaker. She is an executive producer and director of feature films, television programs, and web content. Her work includes K. Bromberg\\'s Driven, Rachel van Dyken\\'s Matchmaker\\'s Playbook, and  her web series, Tiki Bar TV. Tosca is the younger sister of Elon Musk and Kimbal Musk,  and daughter of Errol Musk and Maye Musk. She co-founded the streaming service Passionflix. Errol Musk Errol Musk is a retired South African engineer, politician, and businessman. Beginning in the 2010s, Musk was featured in media documenting his relationships with family including his wives, children, and  former stepdaughter.Errol Musk was born in South Africa.  His mother, Cora Amelia, was British and his father Walter Henry James Musk was a South African army sergeant.He attended Clapham High School, where he dated Maye Haldeman. The pair married in 1970.:\\u200a44\\u200a The family lived in Pretoria, where Maye worked as a dietician and a model. Their first child, Elon Reeve Musk, was born in 1971, named after his wife\\'s grandfather J. Elon Haldeman with  Reeve from her maternal grandmother\\'s maiden name.On 9 March 1972, Musk was elected as an independent to represent Sunnyside on the Pretoria City Council.:\\u200a52\\u200aHe became a member of the recently-formed Progressive Federal Party and ran as their nominee in the  1981 election.:\\u200a52\\u200a:\\u200a225,\\u200afn 119\\u200a In 1983, his resignation from the party amid divisions over a constitutional referendum was front page news.:\\u200a225,\\u200afn 119\\u200aMusk studied electromechanical engineering at the University of Pretoria, worked as an electrical and mechanical engineering consultant and developed properties.  He specialised in retail and office property development.:\\u200a27\\u200a Musk owned \"one of the biggest houses in Pretoria\" thanks to his lucrative engineering business which took on \"large projects such as office buildings, retail complexes, residential subdivisions, and an air force base.\" Musk also owned an auto parts store.  In 1979, Musk and wife Maye divorced .  Maye\\'s book recalls that at the time of the divorce, he owned two homes, a yacht, a plane, five luxury cars, and a truck.Maye recounts a time during their divorce when she sought refuge at a neighbor\\'s home after Errol showed up with a knife looking for her Elon Musk made $175.8 million when PayPal was sold to eBay in October 2002. He was first listed on the Forbes Billionaires List in 2012, with a net worth of $2 billion.  He is the founder, chairman, CEO, and CTO of SpaceX; angel investor, CEO, product architect, and former chairman of Tesla, Inc.; owner, executive chairman, and CTO of X Corp.; founder of the Boring Company and xAI; co-founder of Neuralink and OpenAI; and president of the Musk Foundation. He is one of the wealthiest people in the world, with an estimated net worth of US$191 billion as of April 2024, according to the Bloomberg Billionaires Index, and $182.6 billion according to Forbes, primarily from his ownership stakes in Tesla and SpaceX. Details At the start of 2020, Elon Musk had a net worth of $27 billion. By the end of the year his net worth had increased by $150 billion, mostly driven by his ownership of around 20% of Tesla stock. During this period, Musk\\'s net worth was often volatile. For example, it dropped $16.3 billion on September 8, the largest single-day plunge in Bloomberg Billionaires Index\\'s history at the time. In November of that year, Musk passed Facebook co-founder Mark Zuckerberg to become the third-richest person in the world; a week later he passed Microsoft co-founder Bill Gates to become the second-richest.In January 2021, Musk, with a net worth of $185 billion, surpassed Amazon founder Jeff Bezos to become the richest person in the world. Bezos reclaimed the top spot the following month. On September 27, 2021, after Tesla stock surged, Forbes announced that Musk had a net worth of over $200 billion, and was the richest person in the world. In November 2021, Musk became the first person to have a net worth of more than $300 billion.On December 30, 2022, it was reported that Musk had lost $200 billion from his net worth due to declining stock values in Tesla, becoming the first person in history to lose such a large sum of money. In January 2023, Musk was recognized by Guinness World Records for experiencing the \"largest loss of personal fortune in history\" with regards to his financial losses since November 2021, which Guinness quoted a Forbes estimate of $182 billion.Musk\\'s personal wealth is managed by his family office called Excession LLC, formed in 2016 and run by Jared Birchall. Sources of wealth Around 75% of Musk\\'s wealth was derived from Tesla stock in November 2020, a proportion that fell to about 37% as of December 2022, after selling nearly $40 billion in company shares since late 2021. Musk does not receive a salary from Tesla; he agreed with the board in 2018 to a compensation plan that ties his personal earnings to Tesla\\'s valuation and revenue. The deal stipulated that Musk only received the compensation if Tesla reached certain market values. It was the largest such deal ever done between a CEO and a company board. In the first award, given in May 2020, he was eligible to purchase 1.69 million Tesla shares (about 1% of the company) at below-market prices, which was worth about $800 million.The above stock compensation deal was invalidated by the Delaware court due to Musk controlling Tesla and having massive influence on the directors, making the compensation decision a \"conflicted-controller transaction\" which is subject to court review in Delaware law to be judged for fairness. Tesla is trying to reinstate the payment package via new shareholders votes.Musk paid $455 million in taxes on $1.52 billion of income between 2014 and 2018. According to ProPublica, Musk paid no federal income taxes in 2018. He stated his 2021 tax bill was estimated at $12 billion based on his sale of $14 billion worth of Tesla stock.Musk has repeatedly described himself as \"cash poor\", and has \"professed to have little interest in the material trappings of wealth\". In May 2020, he pledged to sell almost all physical possessions after a talk with Cory Spears. Musk has defended his wealth by saying he is accumulating r Maye Musk (née Haldeman; born April 19, 1948) is a model, dietitian and author. She has been a model for 50 years, appearing on the covers of magazines, including a Time magazine health edition, Women\\'s Day, international editions of Vogue, and Sports Illustrated Swimsuit Issue. She is the mother of Elon Musk, Kimbal Musk and Tosca Musk. She holds Canadian, South African, and American citizenship. She is a registered dietitian. Early life and career Maye Haldeman was born on April 19, 1948, in Regina, Saskatchewan, Canada, a twin and one of five children. Her family moved to Pretoria, South Africa, in 1950. Her parents, Winnifred Josephine \"Wyn\" (Fletcher) and Dr. Joshua Norman Haldeman, a former director of Technocracy Incorporated, a former Regina chiropractor and amateur archaeologist, were adventurous and flew the family around the world in a prop plane in 1952. For over ten years, the family spent time roaming the Kalahari desert in search of its fabled Lost City of the Kalahari. Their parents gave slide shows and talks about their journeys. \"My parents were very famous, but they were never snobs,\" she said. Joshua Haldeman was a political activist who ran for the Canadian Parliament on the Social Credit Party ticket, and headed the Canadian branch of the Technocracy movement. In 1956 Dr. Haldeman participated on the 3rd edition of the trans-Africa Algiers-Cape Town Rally with a Ford Ranch-Wagon 5.4L and finished tied for 1st place.As her parents were entrepreneurs, Musk started working at about 8 years of age, where she would \"prepare her parents monthly bulletins and photocopy newsletters, and then put the stamps on the envelopes.” By the age of 12, before and then after school, Musk worked as a receptionist alongside her twin sister for their father. As a young woman, Haldeman was a finalist in the 1969 Miss South Africa beauty competition. In 1970, she married Errol Musk, a South African engineer she met in high school. They had three children: Elon Musk, Kimbal Musk, and Tosca Musk.  She named Elon after her American grandfather, John Elon Haldeman (born in Illinois).  In 1979, she divorced Errol Musk. Two years later, Elon, who was about 10 at the time, decided to live with his father, as he had the Encyclopaedia Britannica, and a computer, things which Maye could not afford to give the children, as a single parent. Kimbal joined Elon four years later. After graduating from high school, Elon decided to move to Canada; in 1989, six months later, Maye moved to Canada with her daughter Tosca.Maye earned a master\\'s degree in dietetics from the University of the Orange Free State in South Africa. Her major was taught in Afrikaans – one of the four languages Musk now speaks. She later earned another master\\'s degree in nutritional science from the University of Toronto. Later life Her modelling career continued in Canada and the United States. She has appeared on boxes of Special K cereal, in Revlon ads, and in a Beyoncé video (\"Haunted\"). She appeared nude on the cover of Time magazine for a health issue and also nude on the cover of New York magazine in 2011 with a fake pregnant belly. She was on the cover of Elle Canada in 2012, and starred in advertisement campaigns for Target and Virgin America. In September 2017, she became CoverGirl\\'s oldest spokesmodel at age 69, which one news story reported as \"making history\". In 2022, at age 74, she was the oldest Sports Illustrated swimsuit model to date, appearing on the cover of the annual issue.In addition to modelling, she has a business as a dietitian and gives presentations worldwide.She wrote a memoir titled A Woman Makes a Plan: Advice for a Lifetime of Adventure, Beauty, and Success (2019). She also wrote Feel Fantastic: Maye Musk’s Good Health Clinic, which was published in 1996. It enumerated healthy habits and lifestyle changes for healthy aging.In an interview with Forbes magazine, Musk said her greatest achievement was \"having three great  Elon Musk\\'s Tesla Roadster is an electric sports car that served as the dummy payload for the February 2018 Falcon Heavy test flight and became an artificial satellite of the Sun. A mannequin in a spacesuit, dubbed \"Starman\", occupies the driver\\'s seat. The car and rocket are products of Tesla and SpaceX, respectively, both companies headed by Elon Musk. The 2010 Roadster is personally owned by and previously used by Musk for commuting to work. It is the first production car launched into space.The car, mounted on the rocket\\'s second stage, was launched on an escape trajectory and entered an elliptical heliocentric orbit crossing the orbit of Mars. The orbit reaches a maximum distance from the Sun at aphelion of 1.66 astronomical units (au). Video of the Roadster during the launch was transmitted back to the mission control center and live-streamed.Advertising analysts noted Musk\\'s sense of brand management and use of new media for his decision to launch a Tesla into space. Musk explained he wanted to inspire the public about the \"possibility of something new happening in space\" as part of his larger vision for spreading humanity to other planets. Background In March 2017, SpaceX\\'s founder, Elon Musk, said that because the launch of the new Falcon Heavy vehicle was risky, it would carry the \"silliest thing we can imagine\".In June 2017, one of his Twitter followers suggested that the silly thing be a Tesla Model S, to which Musk replied: \"Suggestions welcome!\"In December 2017, Musk announced that the payload would be his personal \"midnight cherry Tesla Roadster\".One of the test flight objectives was to demonstrate that the new rocket could carry a payload as far as the orbit of Mars. NASA deputy administrator Lori Garver stated that SpaceX had \"offered free launches to NASA, Air Force etc. but got no takers\", and that \"the Tesla gimmick was the backup\".The Roadster is the first standard roadworthy vehicle sent into space, following several special-purpose lunar and Mars rovers. Roadster as payload The car was permanently mounted on the rocket in an inclined position above the payload adapter. Tubular structures were added to mount front and side cameras. Photos of the car prior to payload encapsulation were released.Positioned in the driver\\'s seat is \"Starman\", a full-scale human mannequin clad in a SpaceX pressure spacesuit. It was placed with the right hand on the steering wheel and the left elbow resting on the open window sill.  The mannequin was named after the David Bowie song \"Starman\", and the car\\'s sound system was set before launch to continuously loop the Bowie song \"Space Oddity\".A copy of Douglas Adams\\' novel The Hitchhiker\\'s Guide to the Galaxy is in the glove box, along with references to the book in the form of a towel and a sign on the dashboard that reads \"DON\\'T PANIC!\". A Hot Wheels miniature Roadster with a miniature Starman is mounted on the dashboard. A plaque bearing the names of the employees who worked on the project is placed underneath the car, and a message on the vehicle\\'s circuit board reads \"Made on Earth by humans\". The car carries a copy of Isaac Asimov\\'s Foundation trilogy on a 5D optical disc, a proof of concept for high-density long-lasting data storage, donated to Musk by the Arch Mission Foundation. Trajectory The US Office of Commercial Space Transportation issued the test flight\\'s launch license on February 2, 2018. The rocket lifted off from Launch Complex 39A at Kennedy Space Center at 15:45 EST (20:45 UTC) on February 6. The upper stage supporting the car was initially placed in an Earth parking orbit. It spent six hours coasting through the Van Allen radiation belts, thereby demonstrating a new capability requested by the U.S. Air Force for direct insertion of heavy intelligence satellites into geostationary orbit. Then, the upper stage performed a second boost to reach the desired escape trajectory.The launch was live streamed, and video feeds f'"
            ],
            "application/vnd.google.colaboratory.intrinsic+json": {
              "type": "string"
            }
          },
          "metadata": {},
          "execution_count": 10
        }
      ],
      "source": [
        "processed_docs=\" \".join([d.page_content for d in documents]).replace(\"\\n\",\"\").replace(\"=\",\"\")\n",
        "processed_docs"
      ]
    },
    {
      "cell_type": "code",
      "execution_count": 11,
      "metadata": {
        "id": "LwoHMMXU3DD5",
        "colab": {
          "base_uri": "https://localhost:8080/"
        },
        "outputId": "cbe05ae6-53cf-4b28-8473-3e13dbebf8c1"
      },
      "outputs": [
        {
          "output_type": "execute_result",
          "data": {
            "text/plain": [
              "str"
            ]
          },
          "metadata": {},
          "execution_count": 11
        }
      ],
      "source": [
        "type(processed_docs)"
      ]
    },
    {
      "cell_type": "code",
      "execution_count": 12,
      "metadata": {
        "id": "cOUVR8kIlQ6b",
        "colab": {
          "base_uri": "https://localhost:8080/"
        },
        "outputId": "ac38bc2e-a3bc-4764-c03b-e10aaf3886c4"
      },
      "outputs": [
        {
          "output_type": "execute_result",
          "data": {
            "text/plain": [
              "Document(page_content='secured funding for a private takeover of Tesla. To settle the case, Musk stepped down as the chairman of Tesla and paid a $20 million fine. In 2022, he acquired Twitter for $44 billion, merged the company into newly created X Corp. and rebranded the service as X the following year. In March 2023, Musk founded xAI, an artificial intelligence company.Musk has expressed views that have made him a polarizing figure. He has been criticized for making unscientific and misleading statements, including COVID-19 misinformation, promoting right-wing conspiracy theories, and \"endorsing an antisemitic theory\", the latter of which he later apologized for. His ownership of Twitter has been similarly controversial, being marked by layoffs of large numbers of employees, an increase in hate speech, misinformation and disinformation posts on the website, and changes to Twitter Blue verification. Early life and education  Childhood and family Elon Reeve Musk was born on June 28, 1971, in Pretoria, South Africa\\'s administrative capital. He is of British and Pennsylvania Dutch ancestry. His mother, Maye (née Haldeman), is a model and dietitian born in Saskatchewan, Canada, and raised in South Africa. His father, Errol Musk, is a South African electromechanical engineer, pilot, sailor, consultant, emerald dealer, and property developer, who partly owned a rental lodge at the Timbavati Private Nature Reserve. Elon has a younger brother, Kimbal, and a younger sister, Tosca.  Elon has four paternal half-siblings.The family was wealthy during Elon\\'s youth. Despite both Musk and Errol previously stating that Errol was a part owner of a Zambian emerald mine, in 2023, Errol recounted that the deal he made was to receive \" Elon Musk is the CEO or owner of multiple companies including Tesla, SpaceX, and X Corp, and has expressed many views on a wide variety of subjects, ranging from politics to science.Musk has often been described as libertarian, but also describes himself as \"politically moderate\". Though following the COVID-19 pandemic his views have also been described as becoming more right-wing and conservative over time. Within the context of American politics, Musk has said he supported Barack Obama in 2008 and 2012, Hillary Clinton in 2016, Joe Biden in 2020, and Donald Trump in 2024. In 2022, Musk said he would start voting for Republican Party candidates, with')"
            ]
          },
          "metadata": {},
          "execution_count": 12
        }
      ],
      "source": [
        "from langchain.text_splitter import RecursiveCharacterTextSplitter\n",
        "text_splitter=RecursiveCharacterTextSplitter.from_tiktoken_encoder(chunk_size=500,chunk_overlap=20)\n",
        "texts=text_splitter.create_documents([processed_docs])\n",
        "texts[1]"
      ]
    },
    {
      "cell_type": "code",
      "execution_count": 13,
      "metadata": {
        "id": "ozbRqYP_l8Vd",
        "colab": {
          "base_uri": "https://localhost:8080/"
        },
        "outputId": "740541e1-944e-406c-fd45-bdf6e5f19408"
      },
      "outputs": [
        {
          "output_type": "execute_result",
          "data": {
            "text/plain": [
              "Document(page_content='that \"the Tesla gimmick was the backup\".The Roadster is the first standard roadworthy vehicle sent into space, following several special-purpose lunar and Mars rovers. Roadster as payload The car was permanently mounted on the rocket in an inclined position above the payload adapter. Tubular structures were added to mount front and side cameras. Photos of the car prior to payload encapsulation were released.Positioned in the driver\\'s seat is \"Starman\", a full-scale human mannequin clad in a SpaceX pressure spacesuit. It was placed with the right hand on the steering wheel and the left elbow resting on the open window sill.  The mannequin was named after the David Bowie song \"Starman\", and the car\\'s sound system was set before launch to continuously loop the Bowie song \"Space Oddity\".A copy of Douglas Adams\\' novel The Hitchhiker\\'s Guide to the Galaxy is in the glove box, along with references to the book in the form of a towel and a sign on the dashboard that reads \"DON\\'T PANIC!\". A Hot Wheels miniature Roadster with a miniature Starman is mounted on the dashboard. A plaque bearing the names of the employees who worked on the project is placed underneath the car, and a message on the vehicle\\'s circuit board reads \"Made on Earth by humans\". The car carries a copy of Isaac Asimov\\'s Foundation trilogy on a 5D optical disc, a proof of concept for high-density long-lasting data storage, donated to Musk by the Arch Mission Foundation. Trajectory The US Office of Commercial Space Transportation issued the test flight\\'s launch license on February 2, 2018. The rocket lifted off from Launch Complex 39A at Kennedy Space Center at 15:45 EST (20:45 UTC) on February 6. The upper stage supporting the car was initially placed in an Earth parking orbit. It spent six hours coasting through the Van Allen radiation belts, thereby demonstrating a new capability requested by the U.S. Air Force for direct insertion of heavy intelligence satellites into geostationary orbit. Then, the upper stage performed a second boost to reach the desired escape trajectory.The launch was live streamed, and video feeds f')"
            ]
          },
          "metadata": {},
          "execution_count": 13
        }
      ],
      "source": [
        "texts[13]"
      ]
    },
    {
      "cell_type": "code",
      "execution_count": 14,
      "metadata": {
        "id": "DXLIOSHWmG-U",
        "colab": {
          "base_uri": "https://localhost:8080/"
        },
        "outputId": "1b22431c-9280-48f6-f7b6-251172dd6c60"
      },
      "outputs": [
        {
          "output_type": "stream",
          "name": "stdout",
          "text": [
            "The token has not been saved to the git credentials helper. Pass `add_to_git_credential=True` in this function directly or `--add-to-git-credential` if using via `huggingface-cli` if you want to set the git credential as well.\n",
            "Token is valid (permission: read).\n",
            "Your token has been saved to /root/.cache/huggingface/token\n",
            "Login successful\n"
          ]
        },
        {
          "output_type": "stream",
          "name": "stderr",
          "text": [
            "/usr/local/lib/python3.10/dist-packages/langchain_core/_api/deprecation.py:139: LangChainDeprecationWarning: The class `LLMChain` was deprecated in LangChain 0.1.17 and will be removed in 1.0. Use RunnableSequence, e.g., `prompt | llm` instead.\n",
            "  warn_deprecated(\n"
          ]
        }
      ],
      "source": [
        "from langchain.chains.combine_documents.stuff import StuffDocumentsChain\n",
        "from langchain.chains.mapreduce import MapReduceDocumentsChain,ReduceDocumentsChain\n",
        "from langchain import LLMChain\n",
        "from langchain.prompts import PromptTemplate\n",
        "from langchain_huggingface import HuggingFaceEndpoint\n",
        "\n",
        "llm = HuggingFaceEndpoint(\n",
        "    repo_id=\"mistralai/Mistral-7B-Instruct-v0.3\",\n",
        "    task=\"text-generation\",\n",
        "    huggingfacehub_api_token=hf_token,\n",
        "    max_new_tokens=1000,\n",
        "    temperature=0.3,\n",
        ")\n",
        "map_template=PromptTemplate(input_variables=texts,template=\n",
        "\"\"\"\n",
        "**Here are the Documents:**\n",
        "\n",
        "{texts}\n",
        "\n",
        "**Analyze these documents carefully and find statements that are representing entity_types and thier relation_types:**\n",
        "\n",
        "entity_types = ['person','school','award','company','product','characteristic']\n",
        "relation_types = ['alumniOf','worksFor','hasAward','isProducedBy','hasCharacteristic','acquired','hasProject','isFounderOf']\n",
        "\n",
        "**Examples**\n",
        " 1)Tim Cook is the CEO of Apple since 2007.\n",
        " 2)Cupertino is the headquarters of Apple.\n",
        " 3)In 2007, Apple collaborated with Cingular (later AT&T) to develop the iPhone, a revolutionary smartphone featuring multi-touch technology, Touch ID, Face ID, and other innovative features, which has sold over 2.2 billion units as of 2018 and revolutionized the mobile phone industry.\n",
        " Apple also operates the App Store, a digital marketplace for apps on various devices.\n",
        "\n",
        "**Helpful Answer, Please... **\n",
        "**Output**\n",
        " Provide the single line response for each statement like given in the examples\n",
        " Note: Each document may have more than one such statement so try to provide as many statements as you can in numbering bullets.\n",
        " And if you find he/she/it/they/them in the statements write complete lines using names use for it in the output.\n",
        "\"\"\")\n",
        "\n",
        "map_chain=LLMChain(llm=llm,prompt=map_template)\n",
        "\n",
        "reduce_template=PromptTemplate(input_variables=texts,template=\n",
        "\"\"\"**Here are the documents:**\n",
        "\n",
        "{texts}\n",
        "\n",
        "**In paragraphs, summarize these documents.**\n",
        "\n",
        "**Focus on:**\n",
        "\n",
        "* Identifying important people, places, organizations, events, and concepts.\n",
        "* Highlighting connections and interactions between these entities.\n",
        "* Providing a brief overview of the main themes and storylines.\n",
        "\"\"\")\n",
        "reduce_chain=LLMChain(llm=llm,prompt=reduce_template)\n",
        "\n",
        "combine_documents_chain=StuffDocumentsChain(llm_chain=reduce_chain,document_variable_name=\"texts\")\n"
      ]
    },
    {
      "cell_type": "code",
      "execution_count": 15,
      "metadata": {
        "id": "sA7AavaaNNaD",
        "colab": {
          "base_uri": "https://localhost:8080/",
          "height": 353,
          "referenced_widgets": [
            "d71bdda556cd426198c91084191ab358",
            "3e5a4fc4af89439dad69b000425631f7",
            "7d16299aed5b4850811f691eca4fa378",
            "7263963f5b084f15917bc554c82fc641",
            "aedfdd4ad3444761b9017468a5927ad6",
            "8fdcaf78979041dfac7b8ff73b46e572",
            "61641b0995574f10b58eb93b88cbfee0",
            "f115648c6e10426fb54a3c18cf539aed",
            "4d2c7c9ee6b540e388af767cdd814cb7",
            "2789bf81b8ba41f68375bfd9f9cdf2ec",
            "8292cec6234a44078af75cd260283d33",
            "6ba21638e30b48a386e3a408eb5be41b",
            "e7c2d7e6b4f2419a821cb32a59fb5c96",
            "109668a3d2e94b84ab07635ba4b3cb0d",
            "5283836ebf4b4d228ed20687de312211",
            "b165bb37ed374691b22d9644d6e5f35e",
            "357186e435b04af3ae9c2e344f27d65c",
            "2fda78dbeb0449fdb97163a23e9c781d",
            "5cf23ebb53294f5dac51b7062cc49f5c",
            "672442a32dda40a6bbf5638063e0568f",
            "0fa89690b1e24c099adcfa736235d1f1",
            "fdb1889632a74f68bf399ed4ae677c47",
            "f4d15bcfed7b40bd8331623bac93b5ba",
            "340805e1ce4c45e299f3979c3acbe3fc",
            "2b0529b1f7b144e98f4515c027c8ed29",
            "d2cc8e317a01450887c1428009af91fc",
            "9a83586a1f334caba3c2afc2a23bba8d",
            "6f6b11c5f34e41ffabf31dda89cb6588",
            "ca5149d3548e4c90970e3e39b16da5f7",
            "b52b5753694d49cc963f62c6668f67b7",
            "c5214c1e1a864e4dae34c02cc2191b8f",
            "4d63e047167d4de396f433a79a1a10a4",
            "ef7f50d76f064e95871e580cc5f4eb4b",
            "2b64be0c55704c8a892d76f2de03584c",
            "08c2c910f4484d9aa9e7637fada5c09e",
            "5616e901b7764ad385aee77ed2a90975",
            "a397589f0c184cb9ad042cfa01cbab08",
            "38a18ad97f404057b9254d1db57552dc",
            "3d6d0fdc08fa483ea2e6f8ed9d9ff623",
            "45aab99b8f5a49e7a70830fcdc59ae41",
            "d95bdf5260bd426da286dce9a62220e9",
            "6f38476d1c9a48cb810c2e98874aaf18",
            "f001338ab2b549d5bef7f8158478b8ac",
            "fde04078a41f4863bbfe61aecaac2a82",
            "1498ed240753470fa5b2a05c844eff5b",
            "41c9fba7ca71421c82518ec2f4523a8c",
            "f86c000fc6ae435cbecc2d60867cf07c",
            "ccced9f3135b45229daea172afcadb85",
            "abb74e0ebfac42ad907bd860376a8f3b",
            "82de53c556fc4259bf2b62b86b09ad2e",
            "b7f61457ba614b2792820b4c33e96787",
            "687d8d2799494e718ffd8d8faca2c1f4",
            "23ec46225e554a38bd11a5db453bb605",
            "f2d38609ce6f443b9fa74a24fb263caa",
            "9d9604700f0e463e9957ef17626026ae"
          ]
        },
        "outputId": "a27ce2bf-be13-4d02-e373-3e33bf19c385"
      },
      "outputs": [
        {
          "output_type": "stream",
          "name": "stderr",
          "text": [
            "/usr/local/lib/python3.10/dist-packages/langchain_core/_api/deprecation.py:139: LangChainDeprecationWarning: The method `Chain.run` was deprecated in langchain 0.1.0 and will be removed in 0.3.0. Use invoke instead.\n",
            "  warn_deprecated(\n",
            "/usr/local/lib/python3.10/dist-packages/huggingface_hub/utils/_token.py:89: UserWarning: \n",
            "The secret `HF_TOKEN` does not exist in your Colab secrets.\n",
            "To authenticate with the Hugging Face Hub, create a token in your settings tab (https://huggingface.co/settings/tokens), set it as secret in your Google Colab and restart your session.\n",
            "You will be able to reuse this secret in all of your notebooks.\n",
            "Please note that authentication is recommended but still optional to access public models or datasets.\n",
            "  warnings.warn(\n"
          ]
        },
        {
          "output_type": "display_data",
          "data": {
            "text/plain": [
              "tokenizer_config.json:   0%|          | 0.00/26.0 [00:00<?, ?B/s]"
            ],
            "application/vnd.jupyter.widget-view+json": {
              "version_major": 2,
              "version_minor": 0,
              "model_id": "d71bdda556cd426198c91084191ab358"
            }
          },
          "metadata": {}
        },
        {
          "output_type": "display_data",
          "data": {
            "text/plain": [
              "vocab.json:   0%|          | 0.00/1.04M [00:00<?, ?B/s]"
            ],
            "application/vnd.jupyter.widget-view+json": {
              "version_major": 2,
              "version_minor": 0,
              "model_id": "6ba21638e30b48a386e3a408eb5be41b"
            }
          },
          "metadata": {}
        },
        {
          "output_type": "display_data",
          "data": {
            "text/plain": [
              "merges.txt:   0%|          | 0.00/456k [00:00<?, ?B/s]"
            ],
            "application/vnd.jupyter.widget-view+json": {
              "version_major": 2,
              "version_minor": 0,
              "model_id": "f4d15bcfed7b40bd8331623bac93b5ba"
            }
          },
          "metadata": {}
        },
        {
          "output_type": "display_data",
          "data": {
            "text/plain": [
              "tokenizer.json:   0%|          | 0.00/1.36M [00:00<?, ?B/s]"
            ],
            "application/vnd.jupyter.widget-view+json": {
              "version_major": 2,
              "version_minor": 0,
              "model_id": "2b64be0c55704c8a892d76f2de03584c"
            }
          },
          "metadata": {}
        },
        {
          "output_type": "display_data",
          "data": {
            "text/plain": [
              "config.json:   0%|          | 0.00/665 [00:00<?, ?B/s]"
            ],
            "application/vnd.jupyter.widget-view+json": {
              "version_major": 2,
              "version_minor": 0,
              "model_id": "1498ed240753470fa5b2a05c844eff5b"
            }
          },
          "metadata": {}
        },
        {
          "output_type": "stream",
          "name": "stderr",
          "text": [
            "Token indices sequence length is longer than the specified maximum sequence length for this model (6072 > 1024). Running this sequence through the model will result in indexing errors\n"
          ]
        }
      ],
      "source": [
        "reduce_documents_chain=ReduceDocumentsChain(\n",
        "    combine_documents_chain=combine_documents_chain,\n",
        "    collapse_documents_chain=combine_documents_chain,\n",
        ")\n",
        "\n",
        "map_reduce_chain=MapReduceDocumentsChain(\n",
        "    llm_chain=map_chain,\n",
        "    reduce_documents_chain=reduce_documents_chain,\n",
        "    document_variable_name=\"texts\",\n",
        "    return_intermediate_steps=False,\n",
        "\n",
        ")\n",
        "doumentsResultsAfterMapping=map_reduce_chain.run(texts)"
      ]
    },
    {
      "cell_type": "code",
      "execution_count": 16,
      "metadata": {
        "id": "1W5JNNo-XI8k",
        "colab": {
          "base_uri": "https://localhost:8080/",
          "height": 191
        },
        "outputId": "6c4382e4-4fb4-4918-ee10-1bb7d9b26294"
      },
      "outputs": [
        {
          "output_type": "execute_result",
          "data": {
            "text/plain": [
              "'\\n**Paragraph 1:**\\n\\nThe documents discuss Maye Musk, a model, dietitian, and author, and her son Elon Musk, the founder of SpaceX and Tesla. Maye Musk has written a memoir titled \"A Woman Makes a Plan\" and a book called \"Feel Fantastic.\"\\n\\n**Paragraph 2:**\\n\\nElon Musk is also known for launching the Falcon Heavy rocket, produced by SpaceX, on February 6, 2018. The payload of the Falcon Heavy rocket was a Tesla Roadster, a personal vehicle owned by Elon Musk. The Tesla Roadster was equipped with a mannequin named Starman, clad in a SpaceX pressure spacesuit, and a sound system playing the Bowie song \"Space Oddity.\"\\n\\n**Paragraph 3:**\\n\\nThe launch of the Falcon Heavy rocket with the Tesla Roadster was a risky endeavor, but it was intended to inspire the public about the possibilities of space travel. The Tesla Roadster was placed in an Earth parking orbit initially, but it was later boosted to reach the desired escape trajectory. The launch was live-streamed, and the video feeds were available.\\n\\n**Paragraph 4:**\\n\\nThe Tesla Roadster, now an artificial satellite of the Sun, has several notable features. It has a plaque bearing the names of the employees who worked on the project, a message on the vehicle\\'s circuit board that reads \"Made on Earth by humans,\" a copy of Douglas Adams\\' novel The Hitchhiker\\'s Guide to the Galaxy in the glove box, a towel, and a sign on the dashboard that reads \"DON\\'T PANIC!\". The Tesla Roadster also has a Hot Wheels miniature Roadster with a miniature Starman on the dashboard and a copy of Isaac Asimov\\'s Foundation trilogy on a 5D optical disc.\\n\\n**Paragraph 5:**\\n\\nSpaceX had offered free launches to NASA, the Air Force, and other organizations but did not receive any takers. The Tesla Roadster payload was considered a \"gimmick\" in this context, serving as a silly and attention-grabbing element of the Falcon Heavy rocket\\'s inaugural flight.'"
            ],
            "application/vnd.google.colaboratory.intrinsic+json": {
              "type": "string"
            }
          },
          "metadata": {},
          "execution_count": 16
        }
      ],
      "source": [
        "doumentsResultsAfterMapping"
      ]
    },
    {
      "cell_type": "code",
      "execution_count": 17,
      "metadata": {
        "id": "necqPDBiYUXX"
      },
      "outputs": [],
      "source": [
        "file_path = \"/content/summaryText.txt\"\n",
        "\n",
        "with open(file_path, 'w') as file:\n",
        "    file.write(doumentsResultsAfterMapping)"
      ]
    },
    {
      "cell_type": "code",
      "execution_count": 18,
      "metadata": {
        "id": "ykBAETg6lNTY",
        "colab": {
          "base_uri": "https://localhost:8080/"
        },
        "outputId": "2ff9a904-a107-41b4-8890-51eef67eb298"
      },
      "outputs": [
        {
          "output_type": "stream",
          "name": "stdout",
          "text": [
            "The token has not been saved to the git credentials helper. Pass `add_to_git_credential=True` in this function directly or `--add-to-git-credential` if using via `huggingface-cli` if you want to set the git credential as well.\n",
            "Token is valid (permission: read).\n",
            "Your token has been saved to /root/.cache/huggingface/token\n",
            "Login successful\n"
          ]
        }
      ],
      "source": [
        "from langchain.chains import LLMChain\n",
        "from langchain.prompts import HumanMessagePromptTemplate,SystemMessagePromptTemplate\n",
        "from langchain.prompts import ChatPromptTemplate\n",
        "from langchain_core.output_parsers import pydantic\n",
        "from langchain_core.output_parsers import JsonOutputParser\n",
        "from pydantic import BaseModel,Field\n",
        "\n",
        "entity_types = ['person','school','award','company','product','characteristic']\n",
        "relation_types = ['alumniOf','worksFor','hasAward','isProducedBy','hasCharacteristic','acquired','hasProject','isFounderOf']\n",
        "system_prompt=PromptTemplate(template=\n",
        "\"\"\" Consider Yourself as a problem solver and a helpful assistant.\n",
        "Your job is to look at each statement {text} carefully and figure out entites{entity_types} and relationships{relation_types}\n",
        "You can also mention entity and relationships that you seem to be missing.\n",
        "Provide your response in JSON format having following keys: Head,Head_Type,Relation,Tail,Tail_Type\n",
        "Head: Name of the entity from the statement which is the head of the relationship,\n",
        "Head_Type: Type of the head from one of the following {entity_types},\n",
        "Relation: Type of the relationship among the entities from one of the following {relation_types},\n",
        "Tail: Name of the entity which is the tail of the relationship,\n",
        "Tail_Type: Type of the tail from one of the following {entity_types},\n",
        "\n",
        "Note: Do not write additional text after the JSON response\n",
        "\"\"\",\n",
        "input_variables=[entity_types,relation_types])\n",
        "System=SystemMessagePromptTemplate(prompt=system_prompt)\n",
        "\n",
        "\n",
        "examples= [\n",
        "  {\n",
        "    \"Head\": \"Albert Einstein\",\n",
        "    \"Head_Type\": \"person\",\n",
        "    \"Relation\": \"hasAward\",\n",
        "    \"Tail\": \"Nobel Prize in Physics\",\n",
        "    \"Tail_Type\": \"award\"\n",
        "  },\n",
        "  {\n",
        "    \"Head\": \"Harvard University\",\n",
        "    \"Head_Type\": \"school\",\n",
        "    \"Relation\": \"alumniOf\",\n",
        "    \"Tail\": \"Barack Obama\",\n",
        "    \"Tail_Type\": \"person\"\n",
        "  },\n",
        "  {\n",
        "    \"Head\": \"Apple\",\n",
        "    \"Head_Type\": \"company\",\n",
        "    \"Relation\": \"isProducedBy\",\n",
        "    \"Tail\": \"Foxconn\",\n",
        "    \"Tail_Type\": \"company\"\n",
        "  },\n",
        "  {\n",
        "    \"Head\": \"iPhone\",\n",
        "    \"Head_Type\": \"product\",\n",
        "    \"Relation\": \"hasCharacteristic\",\n",
        "    \"Tail\": \"waterproof\",\n",
        "    \"Tail_Type\": \"characteristic\"\n",
        "  },\n",
        "  {\n",
        "    \"Head\": \"Elon Musk\",\n",
        "    \"Head_Type\": \"person\",\n",
        "    \"Relation\": \"isFounderOf\",\n",
        "    \"Tail\": \"Tesla Motors\",\n",
        "    \"Tail_Type\": \"company\"\n",
        "  },\n",
        "  {\n",
        "    \"Head\": \"Microsoft\",\n",
        "    \"Head_Type\": \"company\",\n",
        "    \"Relation\": \"acquired\",\n",
        "    \"Tail\": \"LinkedIn\",\n",
        "    \"Tail_Type\": \"company\"\n",
        "  },\n",
        "  {\n",
        "    \"Head\": \"Marie Curie\",\n",
        "    \"Head_Type\": \"person\",\n",
        "    \"Relation\": \"hasProject\",\n",
        "    \"Tail\": \"Discovery of Polonium\",\n",
        "    \"Tail_Type\": \"characteristic\"\n",
        "  },\n",
        "  {\n",
        "    \"Head\": \"Google\",\n",
        "    \"Head_Type\": \"company\",\n",
        "    \"Relation\": \"worksFor\",\n",
        "    \"Tail\": \"Sundar Pichai\",\n",
        "    \"Tail_Type\": \"person\"\n",
        "  }\n",
        "]\n",
        "class extracted_entities(BaseModel):\n",
        "  Head:str=Field(description=\"Name of the entity from the statement which is the head of the relationship\")\n",
        "  Head_Type:str=Field(description=\"Type of the head from one of the following {entity_types}\")\n",
        "  Relation:str=Field(description=\"Type of the relationship among the entities from one of the following {relation_types}\")\n",
        "  Tail:str=Field(description=\"Name of the entity which is the tail of the relationship\")\n",
        "  Tail_Type:str=Field(description=\"Type of the tail from one of the following {entity_types}\")\n",
        "\n",
        "parser=JsonOutputParser(pydantic_object=extracted_entities)\n",
        "\n",
        "\n",
        "human_prompt=PromptTemplate(template=\n",
        "\"\"\"Based on the provided text extract entites and relationships from the {text}.\n",
        "\n",
        "Carefully identify Entites and Relationships in the given {text}\n",
        "Identify Entites and Relationships from each line.Try to identify as much as you can from each line\n",
        "\n",
        "Below are some of the examples that you can use for your refrence:\n",
        "{examples}\n",
        "\n",
        "Make Sure to provide the output in JSON format having following keys: Head,Head_Type,Relation,Tail,Tail_Type\n",
        "\"\"\",input_variables=[entity_types,relation_types,examples],\n",
        "partial_variables={\"format\":parser.get_format_instructions()})\n",
        "\n",
        "\n",
        "Human=HumanMessagePromptTemplate(prompt=human_prompt)\n",
        "\n",
        "chat_prompt=ChatPromptTemplate.from_messages([System,Human])\n",
        "llm = HuggingFaceEndpoint(\n",
        "    repo_id=\"mistralai/Mistral-7B-Instruct-v0.3\",\n",
        "    task=\"text-generation\",\n",
        "    huggingfacehub_api_token=hf_token,\n",
        "    max_new_tokens=1000,\n",
        "    temperature=0.1,\n",
        ")\n",
        "chain=LLMChain(prompt=chat_prompt,llm=llm)\n",
        "\n"
      ]
    },
    {
      "cell_type": "code",
      "execution_count": 19,
      "metadata": {
        "id": "IVmhYLCFn_oA"
      },
      "outputs": [],
      "source": [
        "with open('/content/summaryText.txt', 'r') as file:\n",
        "    text = file.read()\n",
        "results=[]\n",
        "sentences=text.split(\".\")\n",
        "for sentence in sentences:\n",
        "  response=chain.run(entity_types=entity_types,relation_types=relation_types,examples=examples,text=sentence)\n",
        "  try:\n",
        "    results.append(eval(response))\n",
        "  except:\n",
        "    pass"
      ]
    },
    {
      "cell_type": "code",
      "execution_count": 20,
      "metadata": {
        "id": "f8vYLiCNSV_D",
        "colab": {
          "base_uri": "https://localhost:8080/"
        },
        "outputId": "5418f781-b048-4a99-8584-b700694effda"
      },
      "outputs": [
        {
          "output_type": "execute_result",
          "data": {
            "text/plain": [
              "[[{'Head': 'Tesla Roadster',\n",
              "   'Head_Type': 'product',\n",
              "   'Relation': 'isProducedBy',\n",
              "   'Tail': 'Tesla Motors',\n",
              "   'Tail_Type': 'company'},\n",
              "  {'Head': 'Starman',\n",
              "   'Head_Type': 'characteristic',\n",
              "   'Relation': 'hasCharacteristic',\n",
              "   'Tail': 'mannequin',\n",
              "   'Tail_Type': 'characteristic'},\n",
              "  {'Head': 'SpaceX',\n",
              "   'Head_Type': 'company',\n",
              "   'Relation': 'hasProject',\n",
              "   'Tail': 'SpaceX pressure spacesuit',\n",
              "   'Tail_Type': 'product'},\n",
              "  {'Head': 'David Bowie',\n",
              "   'Head_Type': 'characteristic',\n",
              "   'Relation': 'hasCharacteristic',\n",
              "   'Tail': 'Bowie song \"Space Oddity\"',\n",
              "   'Tail_Type': 'characteristic'}],\n",
              " [{'Head': 'The Tesla Roadster',\n",
              "   'Head_Type': 'product',\n",
              "   'Relation': 'isPlacedIn',\n",
              "   'Tail': 'Earth parking orbit',\n",
              "   'Tail_Type': 'characteristic'},\n",
              "  {'Head': 'The Tesla Roadster',\n",
              "   'Head_Type': 'product',\n",
              "   'Relation': 'wasLaterBoostedTo',\n",
              "   'Tail': 'desired escape trajectory',\n",
              "   'Tail_Type': 'characteristic'}]]"
            ]
          },
          "metadata": {},
          "execution_count": 20
        }
      ],
      "source": [
        "results"
      ]
    },
    {
      "cell_type": "code",
      "execution_count": 38,
      "metadata": {
        "id": "IG7U_qdRUmfi"
      },
      "outputs": [],
      "source": [
        "file2=open(\"/content/results.json\",\"w\")\n",
        "file2.write(str(results))\n",
        "file2.close()"
      ]
    }
  ],
  "metadata": {
    "colab": {
      "provenance": [],
      "gpuType": "T4"
    },
    "kernelspec": {
      "display_name": "Python 3",
      "name": "python3"
    },
    "language_info": {
      "name": "python"
    },
    "accelerator": "GPU",
    "widgets": {
      "application/vnd.jupyter.widget-state+json": {
        "d71bdda556cd426198c91084191ab358": {
          "model_module": "@jupyter-widgets/controls",
          "model_name": "HBoxModel",
          "model_module_version": "1.5.0",
          "state": {
            "_dom_classes": [],
            "_model_module": "@jupyter-widgets/controls",
            "_model_module_version": "1.5.0",
            "_model_name": "HBoxModel",
            "_view_count": null,
            "_view_module": "@jupyter-widgets/controls",
            "_view_module_version": "1.5.0",
            "_view_name": "HBoxView",
            "box_style": "",
            "children": [
              "IPY_MODEL_3e5a4fc4af89439dad69b000425631f7",
              "IPY_MODEL_7d16299aed5b4850811f691eca4fa378",
              "IPY_MODEL_7263963f5b084f15917bc554c82fc641"
            ],
            "layout": "IPY_MODEL_aedfdd4ad3444761b9017468a5927ad6"
          }
        },
        "3e5a4fc4af89439dad69b000425631f7": {
          "model_module": "@jupyter-widgets/controls",
          "model_name": "HTMLModel",
          "model_module_version": "1.5.0",
          "state": {
            "_dom_classes": [],
            "_model_module": "@jupyter-widgets/controls",
            "_model_module_version": "1.5.0",
            "_model_name": "HTMLModel",
            "_view_count": null,
            "_view_module": "@jupyter-widgets/controls",
            "_view_module_version": "1.5.0",
            "_view_name": "HTMLView",
            "description": "",
            "description_tooltip": null,
            "layout": "IPY_MODEL_8fdcaf78979041dfac7b8ff73b46e572",
            "placeholder": "​",
            "style": "IPY_MODEL_61641b0995574f10b58eb93b88cbfee0",
            "value": "tokenizer_config.json: 100%"
          }
        },
        "7d16299aed5b4850811f691eca4fa378": {
          "model_module": "@jupyter-widgets/controls",
          "model_name": "FloatProgressModel",
          "model_module_version": "1.5.0",
          "state": {
            "_dom_classes": [],
            "_model_module": "@jupyter-widgets/controls",
            "_model_module_version": "1.5.0",
            "_model_name": "FloatProgressModel",
            "_view_count": null,
            "_view_module": "@jupyter-widgets/controls",
            "_view_module_version": "1.5.0",
            "_view_name": "ProgressView",
            "bar_style": "success",
            "description": "",
            "description_tooltip": null,
            "layout": "IPY_MODEL_f115648c6e10426fb54a3c18cf539aed",
            "max": 26,
            "min": 0,
            "orientation": "horizontal",
            "style": "IPY_MODEL_4d2c7c9ee6b540e388af767cdd814cb7",
            "value": 26
          }
        },
        "7263963f5b084f15917bc554c82fc641": {
          "model_module": "@jupyter-widgets/controls",
          "model_name": "HTMLModel",
          "model_module_version": "1.5.0",
          "state": {
            "_dom_classes": [],
            "_model_module": "@jupyter-widgets/controls",
            "_model_module_version": "1.5.0",
            "_model_name": "HTMLModel",
            "_view_count": null,
            "_view_module": "@jupyter-widgets/controls",
            "_view_module_version": "1.5.0",
            "_view_name": "HTMLView",
            "description": "",
            "description_tooltip": null,
            "layout": "IPY_MODEL_2789bf81b8ba41f68375bfd9f9cdf2ec",
            "placeholder": "​",
            "style": "IPY_MODEL_8292cec6234a44078af75cd260283d33",
            "value": " 26.0/26.0 [00:00&lt;00:00, 1.40kB/s]"
          }
        },
        "aedfdd4ad3444761b9017468a5927ad6": {
          "model_module": "@jupyter-widgets/base",
          "model_name": "LayoutModel",
          "model_module_version": "1.2.0",
          "state": {
            "_model_module": "@jupyter-widgets/base",
            "_model_module_version": "1.2.0",
            "_model_name": "LayoutModel",
            "_view_count": null,
            "_view_module": "@jupyter-widgets/base",
            "_view_module_version": "1.2.0",
            "_view_name": "LayoutView",
            "align_content": null,
            "align_items": null,
            "align_self": null,
            "border": null,
            "bottom": null,
            "display": null,
            "flex": null,
            "flex_flow": null,
            "grid_area": null,
            "grid_auto_columns": null,
            "grid_auto_flow": null,
            "grid_auto_rows": null,
            "grid_column": null,
            "grid_gap": null,
            "grid_row": null,
            "grid_template_areas": null,
            "grid_template_columns": null,
            "grid_template_rows": null,
            "height": null,
            "justify_content": null,
            "justify_items": null,
            "left": null,
            "margin": null,
            "max_height": null,
            "max_width": null,
            "min_height": null,
            "min_width": null,
            "object_fit": null,
            "object_position": null,
            "order": null,
            "overflow": null,
            "overflow_x": null,
            "overflow_y": null,
            "padding": null,
            "right": null,
            "top": null,
            "visibility": null,
            "width": null
          }
        },
        "8fdcaf78979041dfac7b8ff73b46e572": {
          "model_module": "@jupyter-widgets/base",
          "model_name": "LayoutModel",
          "model_module_version": "1.2.0",
          "state": {
            "_model_module": "@jupyter-widgets/base",
            "_model_module_version": "1.2.0",
            "_model_name": "LayoutModel",
            "_view_count": null,
            "_view_module": "@jupyter-widgets/base",
            "_view_module_version": "1.2.0",
            "_view_name": "LayoutView",
            "align_content": null,
            "align_items": null,
            "align_self": null,
            "border": null,
            "bottom": null,
            "display": null,
            "flex": null,
            "flex_flow": null,
            "grid_area": null,
            "grid_auto_columns": null,
            "grid_auto_flow": null,
            "grid_auto_rows": null,
            "grid_column": null,
            "grid_gap": null,
            "grid_row": null,
            "grid_template_areas": null,
            "grid_template_columns": null,
            "grid_template_rows": null,
            "height": null,
            "justify_content": null,
            "justify_items": null,
            "left": null,
            "margin": null,
            "max_height": null,
            "max_width": null,
            "min_height": null,
            "min_width": null,
            "object_fit": null,
            "object_position": null,
            "order": null,
            "overflow": null,
            "overflow_x": null,
            "overflow_y": null,
            "padding": null,
            "right": null,
            "top": null,
            "visibility": null,
            "width": null
          }
        },
        "61641b0995574f10b58eb93b88cbfee0": {
          "model_module": "@jupyter-widgets/controls",
          "model_name": "DescriptionStyleModel",
          "model_module_version": "1.5.0",
          "state": {
            "_model_module": "@jupyter-widgets/controls",
            "_model_module_version": "1.5.0",
            "_model_name": "DescriptionStyleModel",
            "_view_count": null,
            "_view_module": "@jupyter-widgets/base",
            "_view_module_version": "1.2.0",
            "_view_name": "StyleView",
            "description_width": ""
          }
        },
        "f115648c6e10426fb54a3c18cf539aed": {
          "model_module": "@jupyter-widgets/base",
          "model_name": "LayoutModel",
          "model_module_version": "1.2.0",
          "state": {
            "_model_module": "@jupyter-widgets/base",
            "_model_module_version": "1.2.0",
            "_model_name": "LayoutModel",
            "_view_count": null,
            "_view_module": "@jupyter-widgets/base",
            "_view_module_version": "1.2.0",
            "_view_name": "LayoutView",
            "align_content": null,
            "align_items": null,
            "align_self": null,
            "border": null,
            "bottom": null,
            "display": null,
            "flex": null,
            "flex_flow": null,
            "grid_area": null,
            "grid_auto_columns": null,
            "grid_auto_flow": null,
            "grid_auto_rows": null,
            "grid_column": null,
            "grid_gap": null,
            "grid_row": null,
            "grid_template_areas": null,
            "grid_template_columns": null,
            "grid_template_rows": null,
            "height": null,
            "justify_content": null,
            "justify_items": null,
            "left": null,
            "margin": null,
            "max_height": null,
            "max_width": null,
            "min_height": null,
            "min_width": null,
            "object_fit": null,
            "object_position": null,
            "order": null,
            "overflow": null,
            "overflow_x": null,
            "overflow_y": null,
            "padding": null,
            "right": null,
            "top": null,
            "visibility": null,
            "width": null
          }
        },
        "4d2c7c9ee6b540e388af767cdd814cb7": {
          "model_module": "@jupyter-widgets/controls",
          "model_name": "ProgressStyleModel",
          "model_module_version": "1.5.0",
          "state": {
            "_model_module": "@jupyter-widgets/controls",
            "_model_module_version": "1.5.0",
            "_model_name": "ProgressStyleModel",
            "_view_count": null,
            "_view_module": "@jupyter-widgets/base",
            "_view_module_version": "1.2.0",
            "_view_name": "StyleView",
            "bar_color": null,
            "description_width": ""
          }
        },
        "2789bf81b8ba41f68375bfd9f9cdf2ec": {
          "model_module": "@jupyter-widgets/base",
          "model_name": "LayoutModel",
          "model_module_version": "1.2.0",
          "state": {
            "_model_module": "@jupyter-widgets/base",
            "_model_module_version": "1.2.0",
            "_model_name": "LayoutModel",
            "_view_count": null,
            "_view_module": "@jupyter-widgets/base",
            "_view_module_version": "1.2.0",
            "_view_name": "LayoutView",
            "align_content": null,
            "align_items": null,
            "align_self": null,
            "border": null,
            "bottom": null,
            "display": null,
            "flex": null,
            "flex_flow": null,
            "grid_area": null,
            "grid_auto_columns": null,
            "grid_auto_flow": null,
            "grid_auto_rows": null,
            "grid_column": null,
            "grid_gap": null,
            "grid_row": null,
            "grid_template_areas": null,
            "grid_template_columns": null,
            "grid_template_rows": null,
            "height": null,
            "justify_content": null,
            "justify_items": null,
            "left": null,
            "margin": null,
            "max_height": null,
            "max_width": null,
            "min_height": null,
            "min_width": null,
            "object_fit": null,
            "object_position": null,
            "order": null,
            "overflow": null,
            "overflow_x": null,
            "overflow_y": null,
            "padding": null,
            "right": null,
            "top": null,
            "visibility": null,
            "width": null
          }
        },
        "8292cec6234a44078af75cd260283d33": {
          "model_module": "@jupyter-widgets/controls",
          "model_name": "DescriptionStyleModel",
          "model_module_version": "1.5.0",
          "state": {
            "_model_module": "@jupyter-widgets/controls",
            "_model_module_version": "1.5.0",
            "_model_name": "DescriptionStyleModel",
            "_view_count": null,
            "_view_module": "@jupyter-widgets/base",
            "_view_module_version": "1.2.0",
            "_view_name": "StyleView",
            "description_width": ""
          }
        },
        "6ba21638e30b48a386e3a408eb5be41b": {
          "model_module": "@jupyter-widgets/controls",
          "model_name": "HBoxModel",
          "model_module_version": "1.5.0",
          "state": {
            "_dom_classes": [],
            "_model_module": "@jupyter-widgets/controls",
            "_model_module_version": "1.5.0",
            "_model_name": "HBoxModel",
            "_view_count": null,
            "_view_module": "@jupyter-widgets/controls",
            "_view_module_version": "1.5.0",
            "_view_name": "HBoxView",
            "box_style": "",
            "children": [
              "IPY_MODEL_e7c2d7e6b4f2419a821cb32a59fb5c96",
              "IPY_MODEL_109668a3d2e94b84ab07635ba4b3cb0d",
              "IPY_MODEL_5283836ebf4b4d228ed20687de312211"
            ],
            "layout": "IPY_MODEL_b165bb37ed374691b22d9644d6e5f35e"
          }
        },
        "e7c2d7e6b4f2419a821cb32a59fb5c96": {
          "model_module": "@jupyter-widgets/controls",
          "model_name": "HTMLModel",
          "model_module_version": "1.5.0",
          "state": {
            "_dom_classes": [],
            "_model_module": "@jupyter-widgets/controls",
            "_model_module_version": "1.5.0",
            "_model_name": "HTMLModel",
            "_view_count": null,
            "_view_module": "@jupyter-widgets/controls",
            "_view_module_version": "1.5.0",
            "_view_name": "HTMLView",
            "description": "",
            "description_tooltip": null,
            "layout": "IPY_MODEL_357186e435b04af3ae9c2e344f27d65c",
            "placeholder": "​",
            "style": "IPY_MODEL_2fda78dbeb0449fdb97163a23e9c781d",
            "value": "vocab.json: 100%"
          }
        },
        "109668a3d2e94b84ab07635ba4b3cb0d": {
          "model_module": "@jupyter-widgets/controls",
          "model_name": "FloatProgressModel",
          "model_module_version": "1.5.0",
          "state": {
            "_dom_classes": [],
            "_model_module": "@jupyter-widgets/controls",
            "_model_module_version": "1.5.0",
            "_model_name": "FloatProgressModel",
            "_view_count": null,
            "_view_module": "@jupyter-widgets/controls",
            "_view_module_version": "1.5.0",
            "_view_name": "ProgressView",
            "bar_style": "success",
            "description": "",
            "description_tooltip": null,
            "layout": "IPY_MODEL_5cf23ebb53294f5dac51b7062cc49f5c",
            "max": 1042301,
            "min": 0,
            "orientation": "horizontal",
            "style": "IPY_MODEL_672442a32dda40a6bbf5638063e0568f",
            "value": 1042301
          }
        },
        "5283836ebf4b4d228ed20687de312211": {
          "model_module": "@jupyter-widgets/controls",
          "model_name": "HTMLModel",
          "model_module_version": "1.5.0",
          "state": {
            "_dom_classes": [],
            "_model_module": "@jupyter-widgets/controls",
            "_model_module_version": "1.5.0",
            "_model_name": "HTMLModel",
            "_view_count": null,
            "_view_module": "@jupyter-widgets/controls",
            "_view_module_version": "1.5.0",
            "_view_name": "HTMLView",
            "description": "",
            "description_tooltip": null,
            "layout": "IPY_MODEL_0fa89690b1e24c099adcfa736235d1f1",
            "placeholder": "​",
            "style": "IPY_MODEL_fdb1889632a74f68bf399ed4ae677c47",
            "value": " 1.04M/1.04M [00:00&lt;00:00, 5.18MB/s]"
          }
        },
        "b165bb37ed374691b22d9644d6e5f35e": {
          "model_module": "@jupyter-widgets/base",
          "model_name": "LayoutModel",
          "model_module_version": "1.2.0",
          "state": {
            "_model_module": "@jupyter-widgets/base",
            "_model_module_version": "1.2.0",
            "_model_name": "LayoutModel",
            "_view_count": null,
            "_view_module": "@jupyter-widgets/base",
            "_view_module_version": "1.2.0",
            "_view_name": "LayoutView",
            "align_content": null,
            "align_items": null,
            "align_self": null,
            "border": null,
            "bottom": null,
            "display": null,
            "flex": null,
            "flex_flow": null,
            "grid_area": null,
            "grid_auto_columns": null,
            "grid_auto_flow": null,
            "grid_auto_rows": null,
            "grid_column": null,
            "grid_gap": null,
            "grid_row": null,
            "grid_template_areas": null,
            "grid_template_columns": null,
            "grid_template_rows": null,
            "height": null,
            "justify_content": null,
            "justify_items": null,
            "left": null,
            "margin": null,
            "max_height": null,
            "max_width": null,
            "min_height": null,
            "min_width": null,
            "object_fit": null,
            "object_position": null,
            "order": null,
            "overflow": null,
            "overflow_x": null,
            "overflow_y": null,
            "padding": null,
            "right": null,
            "top": null,
            "visibility": null,
            "width": null
          }
        },
        "357186e435b04af3ae9c2e344f27d65c": {
          "model_module": "@jupyter-widgets/base",
          "model_name": "LayoutModel",
          "model_module_version": "1.2.0",
          "state": {
            "_model_module": "@jupyter-widgets/base",
            "_model_module_version": "1.2.0",
            "_model_name": "LayoutModel",
            "_view_count": null,
            "_view_module": "@jupyter-widgets/base",
            "_view_module_version": "1.2.0",
            "_view_name": "LayoutView",
            "align_content": null,
            "align_items": null,
            "align_self": null,
            "border": null,
            "bottom": null,
            "display": null,
            "flex": null,
            "flex_flow": null,
            "grid_area": null,
            "grid_auto_columns": null,
            "grid_auto_flow": null,
            "grid_auto_rows": null,
            "grid_column": null,
            "grid_gap": null,
            "grid_row": null,
            "grid_template_areas": null,
            "grid_template_columns": null,
            "grid_template_rows": null,
            "height": null,
            "justify_content": null,
            "justify_items": null,
            "left": null,
            "margin": null,
            "max_height": null,
            "max_width": null,
            "min_height": null,
            "min_width": null,
            "object_fit": null,
            "object_position": null,
            "order": null,
            "overflow": null,
            "overflow_x": null,
            "overflow_y": null,
            "padding": null,
            "right": null,
            "top": null,
            "visibility": null,
            "width": null
          }
        },
        "2fda78dbeb0449fdb97163a23e9c781d": {
          "model_module": "@jupyter-widgets/controls",
          "model_name": "DescriptionStyleModel",
          "model_module_version": "1.5.0",
          "state": {
            "_model_module": "@jupyter-widgets/controls",
            "_model_module_version": "1.5.0",
            "_model_name": "DescriptionStyleModel",
            "_view_count": null,
            "_view_module": "@jupyter-widgets/base",
            "_view_module_version": "1.2.0",
            "_view_name": "StyleView",
            "description_width": ""
          }
        },
        "5cf23ebb53294f5dac51b7062cc49f5c": {
          "model_module": "@jupyter-widgets/base",
          "model_name": "LayoutModel",
          "model_module_version": "1.2.0",
          "state": {
            "_model_module": "@jupyter-widgets/base",
            "_model_module_version": "1.2.0",
            "_model_name": "LayoutModel",
            "_view_count": null,
            "_view_module": "@jupyter-widgets/base",
            "_view_module_version": "1.2.0",
            "_view_name": "LayoutView",
            "align_content": null,
            "align_items": null,
            "align_self": null,
            "border": null,
            "bottom": null,
            "display": null,
            "flex": null,
            "flex_flow": null,
            "grid_area": null,
            "grid_auto_columns": null,
            "grid_auto_flow": null,
            "grid_auto_rows": null,
            "grid_column": null,
            "grid_gap": null,
            "grid_row": null,
            "grid_template_areas": null,
            "grid_template_columns": null,
            "grid_template_rows": null,
            "height": null,
            "justify_content": null,
            "justify_items": null,
            "left": null,
            "margin": null,
            "max_height": null,
            "max_width": null,
            "min_height": null,
            "min_width": null,
            "object_fit": null,
            "object_position": null,
            "order": null,
            "overflow": null,
            "overflow_x": null,
            "overflow_y": null,
            "padding": null,
            "right": null,
            "top": null,
            "visibility": null,
            "width": null
          }
        },
        "672442a32dda40a6bbf5638063e0568f": {
          "model_module": "@jupyter-widgets/controls",
          "model_name": "ProgressStyleModel",
          "model_module_version": "1.5.0",
          "state": {
            "_model_module": "@jupyter-widgets/controls",
            "_model_module_version": "1.5.0",
            "_model_name": "ProgressStyleModel",
            "_view_count": null,
            "_view_module": "@jupyter-widgets/base",
            "_view_module_version": "1.2.0",
            "_view_name": "StyleView",
            "bar_color": null,
            "description_width": ""
          }
        },
        "0fa89690b1e24c099adcfa736235d1f1": {
          "model_module": "@jupyter-widgets/base",
          "model_name": "LayoutModel",
          "model_module_version": "1.2.0",
          "state": {
            "_model_module": "@jupyter-widgets/base",
            "_model_module_version": "1.2.0",
            "_model_name": "LayoutModel",
            "_view_count": null,
            "_view_module": "@jupyter-widgets/base",
            "_view_module_version": "1.2.0",
            "_view_name": "LayoutView",
            "align_content": null,
            "align_items": null,
            "align_self": null,
            "border": null,
            "bottom": null,
            "display": null,
            "flex": null,
            "flex_flow": null,
            "grid_area": null,
            "grid_auto_columns": null,
            "grid_auto_flow": null,
            "grid_auto_rows": null,
            "grid_column": null,
            "grid_gap": null,
            "grid_row": null,
            "grid_template_areas": null,
            "grid_template_columns": null,
            "grid_template_rows": null,
            "height": null,
            "justify_content": null,
            "justify_items": null,
            "left": null,
            "margin": null,
            "max_height": null,
            "max_width": null,
            "min_height": null,
            "min_width": null,
            "object_fit": null,
            "object_position": null,
            "order": null,
            "overflow": null,
            "overflow_x": null,
            "overflow_y": null,
            "padding": null,
            "right": null,
            "top": null,
            "visibility": null,
            "width": null
          }
        },
        "fdb1889632a74f68bf399ed4ae677c47": {
          "model_module": "@jupyter-widgets/controls",
          "model_name": "DescriptionStyleModel",
          "model_module_version": "1.5.0",
          "state": {
            "_model_module": "@jupyter-widgets/controls",
            "_model_module_version": "1.5.0",
            "_model_name": "DescriptionStyleModel",
            "_view_count": null,
            "_view_module": "@jupyter-widgets/base",
            "_view_module_version": "1.2.0",
            "_view_name": "StyleView",
            "description_width": ""
          }
        },
        "f4d15bcfed7b40bd8331623bac93b5ba": {
          "model_module": "@jupyter-widgets/controls",
          "model_name": "HBoxModel",
          "model_module_version": "1.5.0",
          "state": {
            "_dom_classes": [],
            "_model_module": "@jupyter-widgets/controls",
            "_model_module_version": "1.5.0",
            "_model_name": "HBoxModel",
            "_view_count": null,
            "_view_module": "@jupyter-widgets/controls",
            "_view_module_version": "1.5.0",
            "_view_name": "HBoxView",
            "box_style": "",
            "children": [
              "IPY_MODEL_340805e1ce4c45e299f3979c3acbe3fc",
              "IPY_MODEL_2b0529b1f7b144e98f4515c027c8ed29",
              "IPY_MODEL_d2cc8e317a01450887c1428009af91fc"
            ],
            "layout": "IPY_MODEL_9a83586a1f334caba3c2afc2a23bba8d"
          }
        },
        "340805e1ce4c45e299f3979c3acbe3fc": {
          "model_module": "@jupyter-widgets/controls",
          "model_name": "HTMLModel",
          "model_module_version": "1.5.0",
          "state": {
            "_dom_classes": [],
            "_model_module": "@jupyter-widgets/controls",
            "_model_module_version": "1.5.0",
            "_model_name": "HTMLModel",
            "_view_count": null,
            "_view_module": "@jupyter-widgets/controls",
            "_view_module_version": "1.5.0",
            "_view_name": "HTMLView",
            "description": "",
            "description_tooltip": null,
            "layout": "IPY_MODEL_6f6b11c5f34e41ffabf31dda89cb6588",
            "placeholder": "​",
            "style": "IPY_MODEL_ca5149d3548e4c90970e3e39b16da5f7",
            "value": "merges.txt: 100%"
          }
        },
        "2b0529b1f7b144e98f4515c027c8ed29": {
          "model_module": "@jupyter-widgets/controls",
          "model_name": "FloatProgressModel",
          "model_module_version": "1.5.0",
          "state": {
            "_dom_classes": [],
            "_model_module": "@jupyter-widgets/controls",
            "_model_module_version": "1.5.0",
            "_model_name": "FloatProgressModel",
            "_view_count": null,
            "_view_module": "@jupyter-widgets/controls",
            "_view_module_version": "1.5.0",
            "_view_name": "ProgressView",
            "bar_style": "success",
            "description": "",
            "description_tooltip": null,
            "layout": "IPY_MODEL_b52b5753694d49cc963f62c6668f67b7",
            "max": 456318,
            "min": 0,
            "orientation": "horizontal",
            "style": "IPY_MODEL_c5214c1e1a864e4dae34c02cc2191b8f",
            "value": 456318
          }
        },
        "d2cc8e317a01450887c1428009af91fc": {
          "model_module": "@jupyter-widgets/controls",
          "model_name": "HTMLModel",
          "model_module_version": "1.5.0",
          "state": {
            "_dom_classes": [],
            "_model_module": "@jupyter-widgets/controls",
            "_model_module_version": "1.5.0",
            "_model_name": "HTMLModel",
            "_view_count": null,
            "_view_module": "@jupyter-widgets/controls",
            "_view_module_version": "1.5.0",
            "_view_name": "HTMLView",
            "description": "",
            "description_tooltip": null,
            "layout": "IPY_MODEL_4d63e047167d4de396f433a79a1a10a4",
            "placeholder": "​",
            "style": "IPY_MODEL_ef7f50d76f064e95871e580cc5f4eb4b",
            "value": " 456k/456k [00:00&lt;00:00, 2.22MB/s]"
          }
        },
        "9a83586a1f334caba3c2afc2a23bba8d": {
          "model_module": "@jupyter-widgets/base",
          "model_name": "LayoutModel",
          "model_module_version": "1.2.0",
          "state": {
            "_model_module": "@jupyter-widgets/base",
            "_model_module_version": "1.2.0",
            "_model_name": "LayoutModel",
            "_view_count": null,
            "_view_module": "@jupyter-widgets/base",
            "_view_module_version": "1.2.0",
            "_view_name": "LayoutView",
            "align_content": null,
            "align_items": null,
            "align_self": null,
            "border": null,
            "bottom": null,
            "display": null,
            "flex": null,
            "flex_flow": null,
            "grid_area": null,
            "grid_auto_columns": null,
            "grid_auto_flow": null,
            "grid_auto_rows": null,
            "grid_column": null,
            "grid_gap": null,
            "grid_row": null,
            "grid_template_areas": null,
            "grid_template_columns": null,
            "grid_template_rows": null,
            "height": null,
            "justify_content": null,
            "justify_items": null,
            "left": null,
            "margin": null,
            "max_height": null,
            "max_width": null,
            "min_height": null,
            "min_width": null,
            "object_fit": null,
            "object_position": null,
            "order": null,
            "overflow": null,
            "overflow_x": null,
            "overflow_y": null,
            "padding": null,
            "right": null,
            "top": null,
            "visibility": null,
            "width": null
          }
        },
        "6f6b11c5f34e41ffabf31dda89cb6588": {
          "model_module": "@jupyter-widgets/base",
          "model_name": "LayoutModel",
          "model_module_version": "1.2.0",
          "state": {
            "_model_module": "@jupyter-widgets/base",
            "_model_module_version": "1.2.0",
            "_model_name": "LayoutModel",
            "_view_count": null,
            "_view_module": "@jupyter-widgets/base",
            "_view_module_version": "1.2.0",
            "_view_name": "LayoutView",
            "align_content": null,
            "align_items": null,
            "align_self": null,
            "border": null,
            "bottom": null,
            "display": null,
            "flex": null,
            "flex_flow": null,
            "grid_area": null,
            "grid_auto_columns": null,
            "grid_auto_flow": null,
            "grid_auto_rows": null,
            "grid_column": null,
            "grid_gap": null,
            "grid_row": null,
            "grid_template_areas": null,
            "grid_template_columns": null,
            "grid_template_rows": null,
            "height": null,
            "justify_content": null,
            "justify_items": null,
            "left": null,
            "margin": null,
            "max_height": null,
            "max_width": null,
            "min_height": null,
            "min_width": null,
            "object_fit": null,
            "object_position": null,
            "order": null,
            "overflow": null,
            "overflow_x": null,
            "overflow_y": null,
            "padding": null,
            "right": null,
            "top": null,
            "visibility": null,
            "width": null
          }
        },
        "ca5149d3548e4c90970e3e39b16da5f7": {
          "model_module": "@jupyter-widgets/controls",
          "model_name": "DescriptionStyleModel",
          "model_module_version": "1.5.0",
          "state": {
            "_model_module": "@jupyter-widgets/controls",
            "_model_module_version": "1.5.0",
            "_model_name": "DescriptionStyleModel",
            "_view_count": null,
            "_view_module": "@jupyter-widgets/base",
            "_view_module_version": "1.2.0",
            "_view_name": "StyleView",
            "description_width": ""
          }
        },
        "b52b5753694d49cc963f62c6668f67b7": {
          "model_module": "@jupyter-widgets/base",
          "model_name": "LayoutModel",
          "model_module_version": "1.2.0",
          "state": {
            "_model_module": "@jupyter-widgets/base",
            "_model_module_version": "1.2.0",
            "_model_name": "LayoutModel",
            "_view_count": null,
            "_view_module": "@jupyter-widgets/base",
            "_view_module_version": "1.2.0",
            "_view_name": "LayoutView",
            "align_content": null,
            "align_items": null,
            "align_self": null,
            "border": null,
            "bottom": null,
            "display": null,
            "flex": null,
            "flex_flow": null,
            "grid_area": null,
            "grid_auto_columns": null,
            "grid_auto_flow": null,
            "grid_auto_rows": null,
            "grid_column": null,
            "grid_gap": null,
            "grid_row": null,
            "grid_template_areas": null,
            "grid_template_columns": null,
            "grid_template_rows": null,
            "height": null,
            "justify_content": null,
            "justify_items": null,
            "left": null,
            "margin": null,
            "max_height": null,
            "max_width": null,
            "min_height": null,
            "min_width": null,
            "object_fit": null,
            "object_position": null,
            "order": null,
            "overflow": null,
            "overflow_x": null,
            "overflow_y": null,
            "padding": null,
            "right": null,
            "top": null,
            "visibility": null,
            "width": null
          }
        },
        "c5214c1e1a864e4dae34c02cc2191b8f": {
          "model_module": "@jupyter-widgets/controls",
          "model_name": "ProgressStyleModel",
          "model_module_version": "1.5.0",
          "state": {
            "_model_module": "@jupyter-widgets/controls",
            "_model_module_version": "1.5.0",
            "_model_name": "ProgressStyleModel",
            "_view_count": null,
            "_view_module": "@jupyter-widgets/base",
            "_view_module_version": "1.2.0",
            "_view_name": "StyleView",
            "bar_color": null,
            "description_width": ""
          }
        },
        "4d63e047167d4de396f433a79a1a10a4": {
          "model_module": "@jupyter-widgets/base",
          "model_name": "LayoutModel",
          "model_module_version": "1.2.0",
          "state": {
            "_model_module": "@jupyter-widgets/base",
            "_model_module_version": "1.2.0",
            "_model_name": "LayoutModel",
            "_view_count": null,
            "_view_module": "@jupyter-widgets/base",
            "_view_module_version": "1.2.0",
            "_view_name": "LayoutView",
            "align_content": null,
            "align_items": null,
            "align_self": null,
            "border": null,
            "bottom": null,
            "display": null,
            "flex": null,
            "flex_flow": null,
            "grid_area": null,
            "grid_auto_columns": null,
            "grid_auto_flow": null,
            "grid_auto_rows": null,
            "grid_column": null,
            "grid_gap": null,
            "grid_row": null,
            "grid_template_areas": null,
            "grid_template_columns": null,
            "grid_template_rows": null,
            "height": null,
            "justify_content": null,
            "justify_items": null,
            "left": null,
            "margin": null,
            "max_height": null,
            "max_width": null,
            "min_height": null,
            "min_width": null,
            "object_fit": null,
            "object_position": null,
            "order": null,
            "overflow": null,
            "overflow_x": null,
            "overflow_y": null,
            "padding": null,
            "right": null,
            "top": null,
            "visibility": null,
            "width": null
          }
        },
        "ef7f50d76f064e95871e580cc5f4eb4b": {
          "model_module": "@jupyter-widgets/controls",
          "model_name": "DescriptionStyleModel",
          "model_module_version": "1.5.0",
          "state": {
            "_model_module": "@jupyter-widgets/controls",
            "_model_module_version": "1.5.0",
            "_model_name": "DescriptionStyleModel",
            "_view_count": null,
            "_view_module": "@jupyter-widgets/base",
            "_view_module_version": "1.2.0",
            "_view_name": "StyleView",
            "description_width": ""
          }
        },
        "2b64be0c55704c8a892d76f2de03584c": {
          "model_module": "@jupyter-widgets/controls",
          "model_name": "HBoxModel",
          "model_module_version": "1.5.0",
          "state": {
            "_dom_classes": [],
            "_model_module": "@jupyter-widgets/controls",
            "_model_module_version": "1.5.0",
            "_model_name": "HBoxModel",
            "_view_count": null,
            "_view_module": "@jupyter-widgets/controls",
            "_view_module_version": "1.5.0",
            "_view_name": "HBoxView",
            "box_style": "",
            "children": [
              "IPY_MODEL_08c2c910f4484d9aa9e7637fada5c09e",
              "IPY_MODEL_5616e901b7764ad385aee77ed2a90975",
              "IPY_MODEL_a397589f0c184cb9ad042cfa01cbab08"
            ],
            "layout": "IPY_MODEL_38a18ad97f404057b9254d1db57552dc"
          }
        },
        "08c2c910f4484d9aa9e7637fada5c09e": {
          "model_module": "@jupyter-widgets/controls",
          "model_name": "HTMLModel",
          "model_module_version": "1.5.0",
          "state": {
            "_dom_classes": [],
            "_model_module": "@jupyter-widgets/controls",
            "_model_module_version": "1.5.0",
            "_model_name": "HTMLModel",
            "_view_count": null,
            "_view_module": "@jupyter-widgets/controls",
            "_view_module_version": "1.5.0",
            "_view_name": "HTMLView",
            "description": "",
            "description_tooltip": null,
            "layout": "IPY_MODEL_3d6d0fdc08fa483ea2e6f8ed9d9ff623",
            "placeholder": "​",
            "style": "IPY_MODEL_45aab99b8f5a49e7a70830fcdc59ae41",
            "value": "tokenizer.json: 100%"
          }
        },
        "5616e901b7764ad385aee77ed2a90975": {
          "model_module": "@jupyter-widgets/controls",
          "model_name": "FloatProgressModel",
          "model_module_version": "1.5.0",
          "state": {
            "_dom_classes": [],
            "_model_module": "@jupyter-widgets/controls",
            "_model_module_version": "1.5.0",
            "_model_name": "FloatProgressModel",
            "_view_count": null,
            "_view_module": "@jupyter-widgets/controls",
            "_view_module_version": "1.5.0",
            "_view_name": "ProgressView",
            "bar_style": "success",
            "description": "",
            "description_tooltip": null,
            "layout": "IPY_MODEL_d95bdf5260bd426da286dce9a62220e9",
            "max": 1355256,
            "min": 0,
            "orientation": "horizontal",
            "style": "IPY_MODEL_6f38476d1c9a48cb810c2e98874aaf18",
            "value": 1355256
          }
        },
        "a397589f0c184cb9ad042cfa01cbab08": {
          "model_module": "@jupyter-widgets/controls",
          "model_name": "HTMLModel",
          "model_module_version": "1.5.0",
          "state": {
            "_dom_classes": [],
            "_model_module": "@jupyter-widgets/controls",
            "_model_module_version": "1.5.0",
            "_model_name": "HTMLModel",
            "_view_count": null,
            "_view_module": "@jupyter-widgets/controls",
            "_view_module_version": "1.5.0",
            "_view_name": "HTMLView",
            "description": "",
            "description_tooltip": null,
            "layout": "IPY_MODEL_f001338ab2b549d5bef7f8158478b8ac",
            "placeholder": "​",
            "style": "IPY_MODEL_fde04078a41f4863bbfe61aecaac2a82",
            "value": " 1.36M/1.36M [00:00&lt;00:00, 4.10MB/s]"
          }
        },
        "38a18ad97f404057b9254d1db57552dc": {
          "model_module": "@jupyter-widgets/base",
          "model_name": "LayoutModel",
          "model_module_version": "1.2.0",
          "state": {
            "_model_module": "@jupyter-widgets/base",
            "_model_module_version": "1.2.0",
            "_model_name": "LayoutModel",
            "_view_count": null,
            "_view_module": "@jupyter-widgets/base",
            "_view_module_version": "1.2.0",
            "_view_name": "LayoutView",
            "align_content": null,
            "align_items": null,
            "align_self": null,
            "border": null,
            "bottom": null,
            "display": null,
            "flex": null,
            "flex_flow": null,
            "grid_area": null,
            "grid_auto_columns": null,
            "grid_auto_flow": null,
            "grid_auto_rows": null,
            "grid_column": null,
            "grid_gap": null,
            "grid_row": null,
            "grid_template_areas": null,
            "grid_template_columns": null,
            "grid_template_rows": null,
            "height": null,
            "justify_content": null,
            "justify_items": null,
            "left": null,
            "margin": null,
            "max_height": null,
            "max_width": null,
            "min_height": null,
            "min_width": null,
            "object_fit": null,
            "object_position": null,
            "order": null,
            "overflow": null,
            "overflow_x": null,
            "overflow_y": null,
            "padding": null,
            "right": null,
            "top": null,
            "visibility": null,
            "width": null
          }
        },
        "3d6d0fdc08fa483ea2e6f8ed9d9ff623": {
          "model_module": "@jupyter-widgets/base",
          "model_name": "LayoutModel",
          "model_module_version": "1.2.0",
          "state": {
            "_model_module": "@jupyter-widgets/base",
            "_model_module_version": "1.2.0",
            "_model_name": "LayoutModel",
            "_view_count": null,
            "_view_module": "@jupyter-widgets/base",
            "_view_module_version": "1.2.0",
            "_view_name": "LayoutView",
            "align_content": null,
            "align_items": null,
            "align_self": null,
            "border": null,
            "bottom": null,
            "display": null,
            "flex": null,
            "flex_flow": null,
            "grid_area": null,
            "grid_auto_columns": null,
            "grid_auto_flow": null,
            "grid_auto_rows": null,
            "grid_column": null,
            "grid_gap": null,
            "grid_row": null,
            "grid_template_areas": null,
            "grid_template_columns": null,
            "grid_template_rows": null,
            "height": null,
            "justify_content": null,
            "justify_items": null,
            "left": null,
            "margin": null,
            "max_height": null,
            "max_width": null,
            "min_height": null,
            "min_width": null,
            "object_fit": null,
            "object_position": null,
            "order": null,
            "overflow": null,
            "overflow_x": null,
            "overflow_y": null,
            "padding": null,
            "right": null,
            "top": null,
            "visibility": null,
            "width": null
          }
        },
        "45aab99b8f5a49e7a70830fcdc59ae41": {
          "model_module": "@jupyter-widgets/controls",
          "model_name": "DescriptionStyleModel",
          "model_module_version": "1.5.0",
          "state": {
            "_model_module": "@jupyter-widgets/controls",
            "_model_module_version": "1.5.0",
            "_model_name": "DescriptionStyleModel",
            "_view_count": null,
            "_view_module": "@jupyter-widgets/base",
            "_view_module_version": "1.2.0",
            "_view_name": "StyleView",
            "description_width": ""
          }
        },
        "d95bdf5260bd426da286dce9a62220e9": {
          "model_module": "@jupyter-widgets/base",
          "model_name": "LayoutModel",
          "model_module_version": "1.2.0",
          "state": {
            "_model_module": "@jupyter-widgets/base",
            "_model_module_version": "1.2.0",
            "_model_name": "LayoutModel",
            "_view_count": null,
            "_view_module": "@jupyter-widgets/base",
            "_view_module_version": "1.2.0",
            "_view_name": "LayoutView",
            "align_content": null,
            "align_items": null,
            "align_self": null,
            "border": null,
            "bottom": null,
            "display": null,
            "flex": null,
            "flex_flow": null,
            "grid_area": null,
            "grid_auto_columns": null,
            "grid_auto_flow": null,
            "grid_auto_rows": null,
            "grid_column": null,
            "grid_gap": null,
            "grid_row": null,
            "grid_template_areas": null,
            "grid_template_columns": null,
            "grid_template_rows": null,
            "height": null,
            "justify_content": null,
            "justify_items": null,
            "left": null,
            "margin": null,
            "max_height": null,
            "max_width": null,
            "min_height": null,
            "min_width": null,
            "object_fit": null,
            "object_position": null,
            "order": null,
            "overflow": null,
            "overflow_x": null,
            "overflow_y": null,
            "padding": null,
            "right": null,
            "top": null,
            "visibility": null,
            "width": null
          }
        },
        "6f38476d1c9a48cb810c2e98874aaf18": {
          "model_module": "@jupyter-widgets/controls",
          "model_name": "ProgressStyleModel",
          "model_module_version": "1.5.0",
          "state": {
            "_model_module": "@jupyter-widgets/controls",
            "_model_module_version": "1.5.0",
            "_model_name": "ProgressStyleModel",
            "_view_count": null,
            "_view_module": "@jupyter-widgets/base",
            "_view_module_version": "1.2.0",
            "_view_name": "StyleView",
            "bar_color": null,
            "description_width": ""
          }
        },
        "f001338ab2b549d5bef7f8158478b8ac": {
          "model_module": "@jupyter-widgets/base",
          "model_name": "LayoutModel",
          "model_module_version": "1.2.0",
          "state": {
            "_model_module": "@jupyter-widgets/base",
            "_model_module_version": "1.2.0",
            "_model_name": "LayoutModel",
            "_view_count": null,
            "_view_module": "@jupyter-widgets/base",
            "_view_module_version": "1.2.0",
            "_view_name": "LayoutView",
            "align_content": null,
            "align_items": null,
            "align_self": null,
            "border": null,
            "bottom": null,
            "display": null,
            "flex": null,
            "flex_flow": null,
            "grid_area": null,
            "grid_auto_columns": null,
            "grid_auto_flow": null,
            "grid_auto_rows": null,
            "grid_column": null,
            "grid_gap": null,
            "grid_row": null,
            "grid_template_areas": null,
            "grid_template_columns": null,
            "grid_template_rows": null,
            "height": null,
            "justify_content": null,
            "justify_items": null,
            "left": null,
            "margin": null,
            "max_height": null,
            "max_width": null,
            "min_height": null,
            "min_width": null,
            "object_fit": null,
            "object_position": null,
            "order": null,
            "overflow": null,
            "overflow_x": null,
            "overflow_y": null,
            "padding": null,
            "right": null,
            "top": null,
            "visibility": null,
            "width": null
          }
        },
        "fde04078a41f4863bbfe61aecaac2a82": {
          "model_module": "@jupyter-widgets/controls",
          "model_name": "DescriptionStyleModel",
          "model_module_version": "1.5.0",
          "state": {
            "_model_module": "@jupyter-widgets/controls",
            "_model_module_version": "1.5.0",
            "_model_name": "DescriptionStyleModel",
            "_view_count": null,
            "_view_module": "@jupyter-widgets/base",
            "_view_module_version": "1.2.0",
            "_view_name": "StyleView",
            "description_width": ""
          }
        },
        "1498ed240753470fa5b2a05c844eff5b": {
          "model_module": "@jupyter-widgets/controls",
          "model_name": "HBoxModel",
          "model_module_version": "1.5.0",
          "state": {
            "_dom_classes": [],
            "_model_module": "@jupyter-widgets/controls",
            "_model_module_version": "1.5.0",
            "_model_name": "HBoxModel",
            "_view_count": null,
            "_view_module": "@jupyter-widgets/controls",
            "_view_module_version": "1.5.0",
            "_view_name": "HBoxView",
            "box_style": "",
            "children": [
              "IPY_MODEL_41c9fba7ca71421c82518ec2f4523a8c",
              "IPY_MODEL_f86c000fc6ae435cbecc2d60867cf07c",
              "IPY_MODEL_ccced9f3135b45229daea172afcadb85"
            ],
            "layout": "IPY_MODEL_abb74e0ebfac42ad907bd860376a8f3b"
          }
        },
        "41c9fba7ca71421c82518ec2f4523a8c": {
          "model_module": "@jupyter-widgets/controls",
          "model_name": "HTMLModel",
          "model_module_version": "1.5.0",
          "state": {
            "_dom_classes": [],
            "_model_module": "@jupyter-widgets/controls",
            "_model_module_version": "1.5.0",
            "_model_name": "HTMLModel",
            "_view_count": null,
            "_view_module": "@jupyter-widgets/controls",
            "_view_module_version": "1.5.0",
            "_view_name": "HTMLView",
            "description": "",
            "description_tooltip": null,
            "layout": "IPY_MODEL_82de53c556fc4259bf2b62b86b09ad2e",
            "placeholder": "​",
            "style": "IPY_MODEL_b7f61457ba614b2792820b4c33e96787",
            "value": "config.json: 100%"
          }
        },
        "f86c000fc6ae435cbecc2d60867cf07c": {
          "model_module": "@jupyter-widgets/controls",
          "model_name": "FloatProgressModel",
          "model_module_version": "1.5.0",
          "state": {
            "_dom_classes": [],
            "_model_module": "@jupyter-widgets/controls",
            "_model_module_version": "1.5.0",
            "_model_name": "FloatProgressModel",
            "_view_count": null,
            "_view_module": "@jupyter-widgets/controls",
            "_view_module_version": "1.5.0",
            "_view_name": "ProgressView",
            "bar_style": "success",
            "description": "",
            "description_tooltip": null,
            "layout": "IPY_MODEL_687d8d2799494e718ffd8d8faca2c1f4",
            "max": 665,
            "min": 0,
            "orientation": "horizontal",
            "style": "IPY_MODEL_23ec46225e554a38bd11a5db453bb605",
            "value": 665
          }
        },
        "ccced9f3135b45229daea172afcadb85": {
          "model_module": "@jupyter-widgets/controls",
          "model_name": "HTMLModel",
          "model_module_version": "1.5.0",
          "state": {
            "_dom_classes": [],
            "_model_module": "@jupyter-widgets/controls",
            "_model_module_version": "1.5.0",
            "_model_name": "HTMLModel",
            "_view_count": null,
            "_view_module": "@jupyter-widgets/controls",
            "_view_module_version": "1.5.0",
            "_view_name": "HTMLView",
            "description": "",
            "description_tooltip": null,
            "layout": "IPY_MODEL_f2d38609ce6f443b9fa74a24fb263caa",
            "placeholder": "​",
            "style": "IPY_MODEL_9d9604700f0e463e9957ef17626026ae",
            "value": " 665/665 [00:00&lt;00:00, 30.4kB/s]"
          }
        },
        "abb74e0ebfac42ad907bd860376a8f3b": {
          "model_module": "@jupyter-widgets/base",
          "model_name": "LayoutModel",
          "model_module_version": "1.2.0",
          "state": {
            "_model_module": "@jupyter-widgets/base",
            "_model_module_version": "1.2.0",
            "_model_name": "LayoutModel",
            "_view_count": null,
            "_view_module": "@jupyter-widgets/base",
            "_view_module_version": "1.2.0",
            "_view_name": "LayoutView",
            "align_content": null,
            "align_items": null,
            "align_self": null,
            "border": null,
            "bottom": null,
            "display": null,
            "flex": null,
            "flex_flow": null,
            "grid_area": null,
            "grid_auto_columns": null,
            "grid_auto_flow": null,
            "grid_auto_rows": null,
            "grid_column": null,
            "grid_gap": null,
            "grid_row": null,
            "grid_template_areas": null,
            "grid_template_columns": null,
            "grid_template_rows": null,
            "height": null,
            "justify_content": null,
            "justify_items": null,
            "left": null,
            "margin": null,
            "max_height": null,
            "max_width": null,
            "min_height": null,
            "min_width": null,
            "object_fit": null,
            "object_position": null,
            "order": null,
            "overflow": null,
            "overflow_x": null,
            "overflow_y": null,
            "padding": null,
            "right": null,
            "top": null,
            "visibility": null,
            "width": null
          }
        },
        "82de53c556fc4259bf2b62b86b09ad2e": {
          "model_module": "@jupyter-widgets/base",
          "model_name": "LayoutModel",
          "model_module_version": "1.2.0",
          "state": {
            "_model_module": "@jupyter-widgets/base",
            "_model_module_version": "1.2.0",
            "_model_name": "LayoutModel",
            "_view_count": null,
            "_view_module": "@jupyter-widgets/base",
            "_view_module_version": "1.2.0",
            "_view_name": "LayoutView",
            "align_content": null,
            "align_items": null,
            "align_self": null,
            "border": null,
            "bottom": null,
            "display": null,
            "flex": null,
            "flex_flow": null,
            "grid_area": null,
            "grid_auto_columns": null,
            "grid_auto_flow": null,
            "grid_auto_rows": null,
            "grid_column": null,
            "grid_gap": null,
            "grid_row": null,
            "grid_template_areas": null,
            "grid_template_columns": null,
            "grid_template_rows": null,
            "height": null,
            "justify_content": null,
            "justify_items": null,
            "left": null,
            "margin": null,
            "max_height": null,
            "max_width": null,
            "min_height": null,
            "min_width": null,
            "object_fit": null,
            "object_position": null,
            "order": null,
            "overflow": null,
            "overflow_x": null,
            "overflow_y": null,
            "padding": null,
            "right": null,
            "top": null,
            "visibility": null,
            "width": null
          }
        },
        "b7f61457ba614b2792820b4c33e96787": {
          "model_module": "@jupyter-widgets/controls",
          "model_name": "DescriptionStyleModel",
          "model_module_version": "1.5.0",
          "state": {
            "_model_module": "@jupyter-widgets/controls",
            "_model_module_version": "1.5.0",
            "_model_name": "DescriptionStyleModel",
            "_view_count": null,
            "_view_module": "@jupyter-widgets/base",
            "_view_module_version": "1.2.0",
            "_view_name": "StyleView",
            "description_width": ""
          }
        },
        "687d8d2799494e718ffd8d8faca2c1f4": {
          "model_module": "@jupyter-widgets/base",
          "model_name": "LayoutModel",
          "model_module_version": "1.2.0",
          "state": {
            "_model_module": "@jupyter-widgets/base",
            "_model_module_version": "1.2.0",
            "_model_name": "LayoutModel",
            "_view_count": null,
            "_view_module": "@jupyter-widgets/base",
            "_view_module_version": "1.2.0",
            "_view_name": "LayoutView",
            "align_content": null,
            "align_items": null,
            "align_self": null,
            "border": null,
            "bottom": null,
            "display": null,
            "flex": null,
            "flex_flow": null,
            "grid_area": null,
            "grid_auto_columns": null,
            "grid_auto_flow": null,
            "grid_auto_rows": null,
            "grid_column": null,
            "grid_gap": null,
            "grid_row": null,
            "grid_template_areas": null,
            "grid_template_columns": null,
            "grid_template_rows": null,
            "height": null,
            "justify_content": null,
            "justify_items": null,
            "left": null,
            "margin": null,
            "max_height": null,
            "max_width": null,
            "min_height": null,
            "min_width": null,
            "object_fit": null,
            "object_position": null,
            "order": null,
            "overflow": null,
            "overflow_x": null,
            "overflow_y": null,
            "padding": null,
            "right": null,
            "top": null,
            "visibility": null,
            "width": null
          }
        },
        "23ec46225e554a38bd11a5db453bb605": {
          "model_module": "@jupyter-widgets/controls",
          "model_name": "ProgressStyleModel",
          "model_module_version": "1.5.0",
          "state": {
            "_model_module": "@jupyter-widgets/controls",
            "_model_module_version": "1.5.0",
            "_model_name": "ProgressStyleModel",
            "_view_count": null,
            "_view_module": "@jupyter-widgets/base",
            "_view_module_version": "1.2.0",
            "_view_name": "StyleView",
            "bar_color": null,
            "description_width": ""
          }
        },
        "f2d38609ce6f443b9fa74a24fb263caa": {
          "model_module": "@jupyter-widgets/base",
          "model_name": "LayoutModel",
          "model_module_version": "1.2.0",
          "state": {
            "_model_module": "@jupyter-widgets/base",
            "_model_module_version": "1.2.0",
            "_model_name": "LayoutModel",
            "_view_count": null,
            "_view_module": "@jupyter-widgets/base",
            "_view_module_version": "1.2.0",
            "_view_name": "LayoutView",
            "align_content": null,
            "align_items": null,
            "align_self": null,
            "border": null,
            "bottom": null,
            "display": null,
            "flex": null,
            "flex_flow": null,
            "grid_area": null,
            "grid_auto_columns": null,
            "grid_auto_flow": null,
            "grid_auto_rows": null,
            "grid_column": null,
            "grid_gap": null,
            "grid_row": null,
            "grid_template_areas": null,
            "grid_template_columns": null,
            "grid_template_rows": null,
            "height": null,
            "justify_content": null,
            "justify_items": null,
            "left": null,
            "margin": null,
            "max_height": null,
            "max_width": null,
            "min_height": null,
            "min_width": null,
            "object_fit": null,
            "object_position": null,
            "order": null,
            "overflow": null,
            "overflow_x": null,
            "overflow_y": null,
            "padding": null,
            "right": null,
            "top": null,
            "visibility": null,
            "width": null
          }
        },
        "9d9604700f0e463e9957ef17626026ae": {
          "model_module": "@jupyter-widgets/controls",
          "model_name": "DescriptionStyleModel",
          "model_module_version": "1.5.0",
          "state": {
            "_model_module": "@jupyter-widgets/controls",
            "_model_module_version": "1.5.0",
            "_model_name": "DescriptionStyleModel",
            "_view_count": null,
            "_view_module": "@jupyter-widgets/base",
            "_view_module_version": "1.2.0",
            "_view_name": "StyleView",
            "description_width": ""
          }
        }
      }
    }
  },
  "nbformat": 4,
  "nbformat_minor": 0
}